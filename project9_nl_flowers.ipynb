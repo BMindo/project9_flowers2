{
  "nbformat": 4,
  "nbformat_minor": 0,
  "metadata": {
    "kernelspec": {
      "name": "python3",
      "display_name": "Python 3"
    },
    "language_info": {
      "codemirror_mode": {
        "name": "ipython",
        "version": 3
      },
      "file_extension": ".py",
      "mimetype": "text/x-python",
      "name": "python",
      "nbconvert_exporter": "python",
      "pygments_lexer": "ipython3",
      "version": "3.6.8"
    },
    "colab": {
      "name": "project9_nl_flowers.ipynb",
      "provenance": [],
      "collapsed_sections": []
    },
    "accelerator": "GPU"
  },
  "cells": [
    {
      "cell_type": "markdown",
      "metadata": {
        "id": "alDU8ilma4CT",
        "colab_type": "text"
      },
      "source": [
        "## Flowers Recognition\n",
        "\n",
        "In this notebook we solve classification task using DL. data set also available on Kaggle: https://www.kaggle.com/alxmamaev/flowers-recognition\n",
        "\n",
        "## Context:\n",
        "Total number of images: 4242.\n",
        "\n",
        "The pictures are divided into five classes: chamomile, tulip, rose, sunflower, dandelion. For each class there are about 800 photos. Photos are not high resolution, about 320x240 pixels. Photos are not reduced to a single size, they have different proportions!\n",
        "\n",
        "## Goal:\n",
        "To build a DL model to recognise the images as accurate as possible.\n",
        "\n",
        "## 1. Importing the data\n",
        "Data:\n",
        "\n",
        "1.1. Preparing environment and importing libraries"
      ]
    },
    {
      "cell_type": "code",
      "metadata": {
        "id": "95uLvJxtl0h6",
        "colab_type": "code",
        "outputId": "eaf528d5-fcc0-40e7-870b-2c0856167eff",
        "colab": {
          "base_uri": "https://localhost:8080/",
          "height": 34
        }
      },
      "source": [
        "try:\n",
        "    %tensorflow_version 2.x\n",
        "except Exception:\n",
        "    pass"
      ],
      "execution_count": 0,
      "outputs": [
        {
          "output_type": "stream",
          "text": [
            "TensorFlow 2.x selected.\n"
          ],
          "name": "stdout"
        }
      ]
    },
    {
      "cell_type": "code",
      "metadata": {
        "id": "cwwL-tc-JmzQ",
        "colab_type": "code",
        "colab": {}
      },
      "source": [
        "!pip install -q -U --pre efficientnet"
      ],
      "execution_count": 0,
      "outputs": []
    },
    {
      "cell_type": "code",
      "metadata": {
        "id": "fm-w_-hYyN96",
        "colab_type": "code",
        "colab": {}
      },
      "source": [
        "!pip install -q toai==0.1.19"
      ],
      "execution_count": 0,
      "outputs": []
    },
    {
      "cell_type": "code",
      "metadata": {
        "id": "mOWXnRPIJmzU",
        "colab_type": "code",
        "outputId": "059de3a0-c7d3-4145-848e-fa7b78f71957",
        "colab": {
          "base_uri": "https://localhost:8080/",
          "height": 34
        }
      },
      "source": [
        "__import__('toai').__version__"
      ],
      "execution_count": 0,
      "outputs": [
        {
          "output_type": "execute_result",
          "data": {
            "text/plain": [
              "'0.1.19'"
            ]
          },
          "metadata": {
            "tags": []
          },
          "execution_count": 4
        }
      ]
    },
    {
      "cell_type": "code",
      "metadata": {
        "id": "qpht3UICJmzZ",
        "colab_type": "code",
        "colab": {}
      },
      "source": [
        "import os"
      ],
      "execution_count": 0,
      "outputs": []
    },
    {
      "cell_type": "code",
      "metadata": {
        "id": "6a5l_wFrJmzc",
        "colab_type": "code",
        "outputId": "79865805-f0f1-4649-dbe1-2228b004c0c3",
        "colab": {
          "base_uri": "https://localhost:8080/",
          "height": 71
        }
      },
      "source": [
        "from toai.imports import *\n",
        "from toai.data import Dataset, DataParams, DataContainer, split_df\n",
        "from toai.models import save_keras_model, load_keras_model\n",
        "from toai.metrics import sparse_top_2_categorical_accuracy\n",
        "from toai.image import (\n",
        "    ImageLearner,\n",
        "    ImageAugmentor,\n",
        "    ImageDataset,\n",
        "    ImageParser,\n",
        "    ImageResizer,\n",
        "    LearningRateFinder,\n",
        "    ImageTrainingStep,\n",
        "    ImageTrainer,\n",
        ")\n",
        "from toai.utils import download_file, unzip, save_file, load_file\n",
        "import tensorflow as tf\n",
        "from tensorflow import keras\n",
        "import efficientnet.tfkeras as efn"
      ],
      "execution_count": 0,
      "outputs": [
        {
          "output_type": "stream",
          "text": [
            "/usr/local/lib/python3.6/dist-packages/sklearn/externals/joblib/__init__.py:15: DeprecationWarning: sklearn.externals.joblib is deprecated in 0.21 and will be removed in 0.23. Please import this functionality directly from joblib, which can be installed with: pip install joblib. If this warning is raised when loading pickled models, you may need to re-serialize those models with scikit-learn 0.21+.\n",
            "  warnings.warn(msg, category=DeprecationWarning)\n"
          ],
          "name": "stderr"
        }
      ]
    },
    {
      "cell_type": "code",
      "metadata": {
        "id": "0DflbyX6Jmzf",
        "colab_type": "code",
        "colab": {}
      },
      "source": [
        "from typing import *"
      ],
      "execution_count": 0,
      "outputs": []
    },
    {
      "cell_type": "code",
      "metadata": {
        "id": "q4ERr3GFerrn",
        "colab_type": "code",
        "outputId": "653ee13d-cf0f-4c9a-c9e1-209fc85da7c4",
        "colab": {
          "base_uri": "https://localhost:8080/",
          "height": 34
        }
      },
      "source": [
        "tf.__version__"
      ],
      "execution_count": 0,
      "outputs": [
        {
          "output_type": "execute_result",
          "data": {
            "text/plain": [
              "'2.0.0-rc2'"
            ]
          },
          "metadata": {
            "tags": []
          },
          "execution_count": 8
        }
      ]
    },
    {
      "cell_type": "code",
      "metadata": {
        "id": "S5W55OV4exZT",
        "colab_type": "code",
        "outputId": "a581febf-8624-458f-fe54-2a7408514cdb",
        "colab": {
          "base_uri": "https://localhost:8080/",
          "height": 34
        }
      },
      "source": [
        "from google.colab import drive\n",
        "drive.mount('/content/drive')"
      ],
      "execution_count": 0,
      "outputs": [
        {
          "output_type": "stream",
          "text": [
            "Drive already mounted at /content/drive; to attempt to forcibly remount, call drive.mount(\"/content/drive\", force_remount=True).\n"
          ],
          "name": "stdout"
        }
      ]
    },
    {
      "cell_type": "markdown",
      "metadata": {
        "id": "L51KZuvWbBzO",
        "colab_type": "text"
      },
      "source": [
        "## 2. Data preparation and analysis"
      ]
    },
    {
      "cell_type": "code",
      "metadata": {
        "id": "o57RBNRcJmzi",
        "colab_type": "code",
        "colab": {}
      },
      "source": [
        "DATA_DIR = Path(\"data/flowers2\")\n",
        "TEMP_DIR = Path('drive/My Drive/Kiti/AI/Projects/project9_flowers2')\n",
        "DATA_DIR.mkdir(parents=True, exist_ok=True)\n",
        "TEMP_DIR.mkdir(parents=True, exist_ok=True)"
      ],
      "execution_count": 0,
      "outputs": []
    },
    {
      "cell_type": "code",
      "metadata": {
        "id": "KvIX0ixZK6-u",
        "colab_type": "code",
        "outputId": "7864e957-f6c1-4570-a913-52c1187f851f",
        "colab": {
          "base_uri": "https://localhost:8080/",
          "height": 34
        }
      },
      "source": [
        "def setup_kaggle():\n",
        "    x = !ls kaggle.json\n",
        "    assert x == ['kaggle.json'], 'Upload kaggle.json'\n",
        "    !mkdir /root/.kaggle\n",
        "    !mv kaggle.json /root/.kaggle\n",
        "    !chmod 600 /root/.kaggle/kaggle.json\n",
        "\n",
        "setup_kaggle()"
      ],
      "execution_count": 0,
      "outputs": [
        {
          "output_type": "stream",
          "text": [
            "mkdir: cannot create directory ‘/root/.kaggle’: File exists\n"
          ],
          "name": "stdout"
        }
      ]
    },
    {
      "cell_type": "code",
      "metadata": {
        "id": "XW1lOWCDLC94",
        "colab_type": "code",
        "colab": {}
      },
      "source": [
        "!kaggle datasets download -q --unzip alxmamaev/flowers-recognition -p {str(DATA_DIR)}"
      ],
      "execution_count": 0,
      "outputs": []
    },
    {
      "cell_type": "code",
      "metadata": {
        "id": "019dN4FFubjA",
        "colab_type": "code",
        "colab": {}
      },
      "source": [
        "IMG_DIMS = (299, 299, 3)"
      ],
      "execution_count": 0,
      "outputs": []
    },
    {
      "cell_type": "code",
      "metadata": {
        "id": "H4VQ5x64udyi",
        "colab_type": "code",
        "outputId": "4f4b0cff-dff8-458a-c4ad-d728f0fb3a24",
        "colab": {
          "base_uri": "https://localhost:8080/",
          "height": 34
        }
      },
      "source": [
        "IMG_DIMS"
      ],
      "execution_count": 0,
      "outputs": [
        {
          "output_type": "execute_result",
          "data": {
            "text/plain": [
              "(299, 299, 3)"
            ]
          },
          "metadata": {
            "tags": []
          },
          "execution_count": 12
        }
      ]
    },
    {
      "cell_type": "markdown",
      "metadata": {
        "id": "FcRnDmDZbMhp",
        "colab_type": "text"
      },
      "source": [
        "We create the data frame to prepare data for training"
      ]
    },
    {
      "cell_type": "code",
      "metadata": {
        "id": "yZ3Iyi3_uhL4",
        "colab_type": "code",
        "colab": {}
      },
      "source": [
        "def make_df_from_dir(path):\n",
        "    data = {\n",
        "        'labels': [],\n",
        "        'image': [],\n",
        "    }\n",
        "    for labels in os.listdir(path):\n",
        "        for image_name in os.listdir(path/labels):\n",
        "            try:\n",
        "                Image.open(str(path/labels/image_name))\n",
        "                data['labels'].append(labels)\n",
        "                data['image'].append(str(path/labels/image_name))\n",
        "            except:\n",
        "                pass\n",
        "    return pd.DataFrame(data)"
      ],
      "execution_count": 0,
      "outputs": []
    },
    {
      "cell_type": "code",
      "metadata": {
        "id": "RUsNvvnNukuD",
        "colab_type": "code",
        "colab": {}
      },
      "source": [
        "full_df = make_df_from_dir(DATA_DIR/'flowers')"
      ],
      "execution_count": 0,
      "outputs": []
    },
    {
      "cell_type": "code",
      "metadata": {
        "id": "cinUWXNIuoaR",
        "colab_type": "code",
        "outputId": "c5179307-060a-49e4-cf78-87c0a5e3f957",
        "colab": {
          "base_uri": "https://localhost:8080/",
          "height": 131
        }
      },
      "source": [
        "full_df.head().T"
      ],
      "execution_count": 0,
      "outputs": [
        {
          "output_type": "execute_result",
          "data": {
            "text/html": [
              "<div>\n",
              "<style scoped>\n",
              "    .dataframe tbody tr th:only-of-type {\n",
              "        vertical-align: middle;\n",
              "    }\n",
              "\n",
              "    .dataframe tbody tr th {\n",
              "        vertical-align: top;\n",
              "    }\n",
              "\n",
              "    .dataframe thead th {\n",
              "        text-align: right;\n",
              "    }\n",
              "</style>\n",
              "<table border=\"1\" class=\"dataframe\">\n",
              "  <thead>\n",
              "    <tr style=\"text-align: right;\">\n",
              "      <th></th>\n",
              "      <th>0</th>\n",
              "      <th>1</th>\n",
              "      <th>2</th>\n",
              "      <th>3</th>\n",
              "      <th>4</th>\n",
              "    </tr>\n",
              "  </thead>\n",
              "  <tbody>\n",
              "    <tr>\n",
              "      <th>labels</th>\n",
              "      <td>rose</td>\n",
              "      <td>rose</td>\n",
              "      <td>rose</td>\n",
              "      <td>rose</td>\n",
              "      <td>rose</td>\n",
              "    </tr>\n",
              "    <tr>\n",
              "      <th>image</th>\n",
              "      <td>data/flowers2/flowers/rose/4675532860_890504a4...</td>\n",
              "      <td>data/flowers2/flowers/rose/15202632426_d88efb3...</td>\n",
              "      <td>data/flowers2/flowers/rose/7461896668_cfef58f8...</td>\n",
              "      <td>data/flowers2/flowers/rose/174109630_3c544b8a2...</td>\n",
              "      <td>data/flowers2/flowers/rose/5001852101_877cb2ae...</td>\n",
              "    </tr>\n",
              "  </tbody>\n",
              "</table>\n",
              "</div>"
            ],
            "text/plain": [
              "                                                        0  ...                                                  4\n",
              "labels                                               rose  ...                                               rose\n",
              "image   data/flowers2/flowers/rose/4675532860_890504a4...  ...  data/flowers2/flowers/rose/5001852101_877cb2ae...\n",
              "\n",
              "[2 rows x 5 columns]"
            ]
          },
          "metadata": {
            "tags": []
          },
          "execution_count": 88
        }
      ]
    },
    {
      "cell_type": "code",
      "metadata": {
        "id": "MOjrutFzurfn",
        "colab_type": "code",
        "outputId": "305855ef-2a14-49c2-9a1e-bb8b2a49eda9",
        "colab": {
          "base_uri": "https://localhost:8080/",
          "height": 136
        }
      },
      "source": [
        "full_df.info()"
      ],
      "execution_count": 0,
      "outputs": [
        {
          "output_type": "stream",
          "text": [
            "<class 'pandas.core.frame.DataFrame'>\n",
            "RangeIndex: 4323 entries, 0 to 4322\n",
            "Data columns (total 2 columns):\n",
            "labels    4323 non-null object\n",
            "image     4323 non-null object\n",
            "dtypes: object(2)\n",
            "memory usage: 67.6+ KB\n"
          ],
          "name": "stdout"
        }
      ]
    },
    {
      "cell_type": "code",
      "metadata": {
        "id": "gX5RplJFuuB3",
        "colab_type": "code",
        "outputId": "3486af25-e140-47c3-e46f-4b8882da71ea",
        "colab": {
          "base_uri": "https://localhost:8080/",
          "height": 34
        }
      },
      "source": [
        "full_df.labels.unique()"
      ],
      "execution_count": 0,
      "outputs": [
        {
          "output_type": "execute_result",
          "data": {
            "text/plain": [
              "array(['rose', 'dandelion', 'daisy', 'sunflower', 'tulip'], dtype=object)"
            ]
          },
          "metadata": {
            "tags": []
          },
          "execution_count": 90
        }
      ]
    },
    {
      "cell_type": "code",
      "metadata": {
        "id": "BYX60_d0uweu",
        "colab_type": "code",
        "colab": {}
      },
      "source": [
        "full_df.to_csv(TEMP_DIR/'full_df.csv', index=False)"
      ],
      "execution_count": 0,
      "outputs": []
    },
    {
      "cell_type": "code",
      "metadata": {
        "id": "7igAOZXsuxJ0",
        "colab_type": "code",
        "colab": {}
      },
      "source": [
        "full_df = pd.read_csv(TEMP_DIR/'full_df.csv')"
      ],
      "execution_count": 0,
      "outputs": []
    },
    {
      "cell_type": "markdown",
      "metadata": {
        "id": "yQ2heEc6bYNC",
        "colab_type": "text"
      },
      "source": [
        "Image distribution by label"
      ]
    },
    {
      "cell_type": "code",
      "metadata": {
        "id": "y20egAFAuzxs",
        "colab_type": "code",
        "outputId": "4386da11-d103-4c3b-cba0-df988f001127",
        "colab": {
          "base_uri": "https://localhost:8080/",
          "height": 136
        }
      },
      "source": [
        "full_df.groupby('labels')['image'].nunique()"
      ],
      "execution_count": 0,
      "outputs": [
        {
          "output_type": "execute_result",
          "data": {
            "text/plain": [
              "labels\n",
              "daisy         769\n",
              "dandelion    1052\n",
              "rose          784\n",
              "sunflower     734\n",
              "tulip         984\n",
              "Name: image, dtype: int64"
            ]
          },
          "metadata": {
            "tags": []
          },
          "execution_count": 93
        }
      ]
    },
    {
      "cell_type": "code",
      "metadata": {
        "id": "MGe7lKrr0LwV",
        "colab_type": "code",
        "colab": {}
      },
      "source": [
        "# import matplotlib.pyplot as plt"
      ],
      "execution_count": 0,
      "outputs": []
    },
    {
      "cell_type": "code",
      "metadata": {
        "id": "KbLH0b3bu1ZD",
        "colab_type": "code",
        "outputId": "c23cc97f-093c-4b0b-f3de-a53cb9b03de5",
        "colab": {
          "base_uri": "https://localhost:8080/",
          "height": 34
        }
      },
      "source": [
        "plt.style.use('seaborn')\n",
        "sns.countplot(full_df['labels'].sort_values(), data=full_df)\n",
        "plt.xticks(rotation=90)\n",
        "plt.title('All images distribution by labels', fontsize=10)"
      ],
      "execution_count": 0,
      "outputs": [
        {
          "output_type": "execute_result",
          "data": {
            "text/plain": [
              "Text(0.5, 1.0, 'All images distribution by labels')"
            ]
          },
          "metadata": {
            "tags": []
          },
          "execution_count": 95
        }
      ]
    },
    {
      "cell_type": "markdown",
      "metadata": {
        "id": "zg_u5yEqbed2",
        "colab_type": "text"
      },
      "source": [
        "## 3. Data preprocessing"
      ]
    },
    {
      "cell_type": "code",
      "metadata": {
        "id": "qxRUEe74vSV2",
        "colab_type": "code",
        "colab": {}
      },
      "source": [
        "target_col = 'labels'\n",
        "image_path_col = 'image'"
      ],
      "execution_count": 0,
      "outputs": []
    },
    {
      "cell_type": "code",
      "metadata": {
        "id": "8Jlq6MmxJmz0",
        "colab_type": "code",
        "colab": {}
      },
      "source": [
        "train_data, valid_data, test_data = ImageDataset.split(\n",
        "    dataset=ImageDataset.from_dataframe(full_df, x_col=image_path_col, y_col=target_col),\n",
        "    fracs=(0.8, 0.1, 0.1),\n",
        ")"
      ],
      "execution_count": 0,
      "outputs": []
    },
    {
      "cell_type": "code",
      "metadata": {
        "id": "lg_D6ymoJmz3",
        "colab_type": "code",
        "colab": {}
      },
      "source": [
        "train_image_dataset = (\n",
        "    train_data\n",
        "    .dataset(batch_size=32, img_dims=IMG_DIMS, shuffle=True)\n",
        "    .make_pipeline(\n",
        "        image_pipeline=[\n",
        "            ImageParser(),\n",
        "            ImageResizer(img_dims=IMG_DIMS, resize=\"stretch\"),\n",
        "            ImageAugmentor(level=3, flips=\"both\"),\n",
        "        ],\n",
        "    )\n",
        "    .save_pipeline(TEMP_DIR/\"train\")\n",
        "    .preprocess()\n",
        ")"
      ],
      "execution_count": 0,
      "outputs": []
    },
    {
      "cell_type": "code",
      "metadata": {
        "id": "bqYlnzEjJmz6",
        "colab_type": "code",
        "colab": {}
      },
      "source": [
        "valid_image_dataset = (\n",
        "    valid_data\n",
        "    .dataset(batch_size=32, img_dims=IMG_DIMS, shuffle=False)\n",
        "    .make_pipeline(\n",
        "        label_map=train_image_dataset.label_map,\n",
        "        image_pipeline=[\n",
        "            ImageParser(),\n",
        "            ImageResizer(img_dims=IMG_DIMS, resize=\"stretch\"),\n",
        "        ],\n",
        "    )\n",
        "    .save_pipeline(TEMP_DIR/\"pred\")\n",
        "    .preprocess()\n",
        ")"
      ],
      "execution_count": 0,
      "outputs": []
    },
    {
      "cell_type": "code",
      "metadata": {
        "id": "4DG1_LfEJmz9",
        "colab_type": "code",
        "colab": {}
      },
      "source": [
        "test_image_dataset = (\n",
        "    test_data\n",
        "    .dataset(batch_size=32, img_dims=IMG_DIMS, shuffle=False)\n",
        "    .load_pipeline(TEMP_DIR/\"pred\")\n",
        "    .preprocess()\n",
        ")"
      ],
      "execution_count": 0,
      "outputs": []
    },
    {
      "cell_type": "code",
      "metadata": {
        "id": "KfKYvzF0Jm0A",
        "colab_type": "code",
        "outputId": "78dfec15-ac39-45c7-cf7c-80f0a6b2984b",
        "colab": {
          "base_uri": "https://localhost:8080/",
          "height": 34
        }
      },
      "source": [
        "train_image_dataset.label_map"
      ],
      "execution_count": 0,
      "outputs": [
        {
          "output_type": "execute_result",
          "data": {
            "text/plain": [
              "{'daisy': 0, 'dandelion': 1, 'rose': 2, 'sunflower': 3, 'tulip': 4}"
            ]
          },
          "metadata": {
            "tags": []
          },
          "execution_count": 101
        }
      ]
    },
    {
      "cell_type": "code",
      "metadata": {
        "id": "Y8-pGLsBJm0D",
        "colab_type": "code",
        "outputId": "4aea33f9-aeec-4484-eb5e-962075f6fb98",
        "colab": {
          "base_uri": "https://localhost:8080/",
          "height": 34
        }
      },
      "source": [
        "test_image_dataset.label_map"
      ],
      "execution_count": 0,
      "outputs": [
        {
          "output_type": "execute_result",
          "data": {
            "text/plain": [
              "{'daisy': 0, 'dandelion': 1, 'rose': 2, 'sunflower': 3, 'tulip': 4}"
            ]
          },
          "metadata": {
            "tags": []
          },
          "execution_count": 102
        }
      ]
    },
    {
      "cell_type": "code",
      "metadata": {
        "id": "coxkxBhgJm0G",
        "colab_type": "code",
        "outputId": "235fd22b-e38d-499b-cffd-1746b5f1e3b6",
        "colab": {
          "base_uri": "https://localhost:8080/",
          "height": 34
        }
      },
      "source": [
        "len(train_image_dataset)"
      ],
      "execution_count": 0,
      "outputs": [
        {
          "output_type": "execute_result",
          "data": {
            "text/plain": [
              "3459"
            ]
          },
          "metadata": {
            "tags": []
          },
          "execution_count": 103
        }
      ]
    },
    {
      "cell_type": "code",
      "metadata": {
        "id": "5w2fhVfLJm0J",
        "colab_type": "code",
        "outputId": "70d92d0c-509b-4433-e9a7-5947041c1e09",
        "colab": {
          "base_uri": "https://localhost:8080/",
          "height": 34
        }
      },
      "source": [
        "len(test_image_dataset)"
      ],
      "execution_count": 0,
      "outputs": [
        {
          "output_type": "execute_result",
          "data": {
            "text/plain": [
              "431"
            ]
          },
          "metadata": {
            "tags": []
          },
          "execution_count": 104
        }
      ]
    },
    {
      "cell_type": "code",
      "metadata": {
        "id": "y72Ed30cJm0M",
        "colab_type": "code",
        "colab": {}
      },
      "source": [
        "data_container = DataContainer(\n",
        "    train=train_image_dataset,\n",
        "    validation=valid_image_dataset,\n",
        "    test=test_image_dataset,\n",
        ")"
      ],
      "execution_count": 0,
      "outputs": []
    },
    {
      "cell_type": "code",
      "metadata": {
        "id": "nVNTLn84Jm0Q",
        "colab_type": "code",
        "colab": {}
      },
      "source": [
        "data_container.train.show()"
      ],
      "execution_count": 0,
      "outputs": []
    },
    {
      "cell_type": "code",
      "metadata": {
        "id": "lcYR0iFCJm0U",
        "colab_type": "code",
        "colab": {}
      },
      "source": [
        "data_container.validation.show()"
      ],
      "execution_count": 0,
      "outputs": []
    },
    {
      "cell_type": "code",
      "metadata": {
        "id": "ahIFfogIJm0Z",
        "colab_type": "code",
        "colab": {}
      },
      "source": [
        "data_container.test.show()"
      ],
      "execution_count": 0,
      "outputs": []
    },
    {
      "cell_type": "markdown",
      "metadata": {
        "id": "xgQVVMyhbqSv",
        "colab_type": "text"
      },
      "source": [
        "## 4. Training the Models"
      ]
    },
    {
      "cell_type": "code",
      "metadata": {
        "id": "8E3MPyuDJm0f",
        "colab_type": "code",
        "colab": {}
      },
      "source": [
        "learner = ImageLearner(\n",
        "    path=TEMP_DIR/\"xception_v1\",\n",
        "    base_model=keras.applications.Xception,\n",
        "    input_shape=IMG_DIMS,\n",
        "    output_shape=[data_container.train.n_classes],\n",
        "    activation=keras.activations.softmax,\n",
        "    loss=keras.losses.sparse_categorical_crossentropy,\n",
        "    metrics=[keras.metrics.sparse_categorical_accuracy, sparse_top_2_categorical_accuracy],\n",
        "    dropout=0.5,\n",
        "    l1=3e-6,\n",
        "    l2=3e-5,\n",
        "    override=True,\n",
        ")"
      ],
      "execution_count": 0,
      "outputs": []
    },
    {
      "cell_type": "code",
      "metadata": {
        "id": "JCy1MBbEJm0o",
        "colab_type": "code",
        "colab": {}
      },
      "source": [
        "steps = [\n",
        "    ImageTrainingStep(\n",
        "        n_epochs=5,\n",
        "        lr=3e-4,\n",
        "        optimizer=keras.optimizers.Adam,\n",
        "        freeze=True,\n",
        "        feature_pipeline=[\n",
        "            ImageParser(),\n",
        "            ImageResizer(img_dims=IMG_DIMS, resize=\"stretch\"),\n",
        "            ImageAugmentor(level=1),\n",
        "        ],\n",
        "    ),\n",
        "    ImageTrainingStep(\n",
        "        n_epochs=5,\n",
        "        lr=3e-5,\n",
        "        optimizer=keras.optimizers.Adam,\n",
        "        feature_pipeline=[\n",
        "            ImageParser(),\n",
        "            ImageResizer(img_dims=IMG_DIMS, resize=\"stretch\"),\n",
        "            ImageAugmentor(level=5, flips=\"both\"),\n",
        "        ],\n",
        "    ),\n",
        "    ImageTrainingStep(\n",
        "        n_epochs=5,\n",
        "        lr=3e-5,\n",
        "        optimizer=keras.optimizers.Adam,\n",
        "        feature_pipeline=[\n",
        "            ImageParser(),\n",
        "            ImageResizer(img_dims=IMG_DIMS, resize=\"stretch\"),\n",
        "            ImageAugmentor(level=3, flips=\"both\"),\n",
        "        ],\n",
        "    ),\n",
        "    ImageTrainingStep(\n",
        "        n_epochs=5,\n",
        "        lr=1e-5,\n",
        "        optimizer=keras.optimizers.SGD,\n",
        "        feature_pipeline=[\n",
        "            ImageParser(),\n",
        "            ImageResizer(img_dims=IMG_DIMS, resize=\"stretch\"),\n",
        "            ImageAugmentor(level=1),\n",
        "        ],\n",
        "    ),\n",
        "]"
      ],
      "execution_count": 0,
      "outputs": []
    },
    {
      "cell_type": "code",
      "metadata": {
        "id": "yH7IzTxRJm0r",
        "colab_type": "code",
        "colab": {}
      },
      "source": [
        "trainer = ImageTrainer(\n",
        "    learner=learner,\n",
        "    data_container=data_container,\n",
        "    steps=steps,\n",
        ")"
      ],
      "execution_count": 0,
      "outputs": []
    },
    {
      "cell_type": "code",
      "metadata": {
        "id": "ZXfmdYQEJm0v",
        "colab_type": "code",
        "outputId": "c91e1c0b-eb4b-45a7-c691-931a62f3117c",
        "colab": {
          "base_uri": "https://localhost:8080/",
          "height": 836
        }
      },
      "source": [
        "trainer.train()"
      ],
      "execution_count": 0,
      "outputs": [
        {
          "output_type": "stream",
          "text": [
            "Train for 109 steps, validate for 14 steps\n",
            "Epoch 1/5\n",
            "109/109 [==============================] - 123s 1s/step - loss: 1.5077 - sparse_categorical_accuracy: 0.5140 - sparse_top_2_categorical_accuracy: 0.7130 - val_loss: 0.9087 - val_sparse_categorical_accuracy: 0.6295 - val_sparse_top_2_categorical_accuracy: 0.8304\n",
            "Epoch 2/5\n",
            "109/109 [==============================] - 93s 855ms/step - loss: 0.8441 - sparse_categorical_accuracy: 0.7073 - sparse_top_2_categorical_accuracy: 0.8721 - val_loss: 0.7479 - val_sparse_categorical_accuracy: 0.7031 - val_sparse_top_2_categorical_accuracy: 0.8594\n",
            "Epoch 3/5\n",
            "109/109 [==============================] - 93s 855ms/step - loss: 0.6909 - sparse_categorical_accuracy: 0.7729 - sparse_top_2_categorical_accuracy: 0.9060 - val_loss: 0.7058 - val_sparse_categorical_accuracy: 0.7143 - val_sparse_top_2_categorical_accuracy: 0.8817\n",
            "Epoch 4/5\n",
            "109/109 [==============================] - 94s 859ms/step - loss: 0.6496 - sparse_categorical_accuracy: 0.7853 - sparse_top_2_categorical_accuracy: 0.9068 - val_loss: 0.6329 - val_sparse_categorical_accuracy: 0.7366 - val_sparse_top_2_categorical_accuracy: 0.8996\n",
            "Epoch 5/5\n",
            "109/109 [==============================] - 92s 846ms/step - loss: 0.5617 - sparse_categorical_accuracy: 0.8145 - sparse_top_2_categorical_accuracy: 0.9295 - val_loss: 0.7378 - val_sparse_categorical_accuracy: 0.7121 - val_sparse_top_2_categorical_accuracy: 0.8884\n",
            "Train for 109 steps, validate for 14 steps\n",
            "Epoch 1/5\n",
            "109/109 [==============================] - 306s 3s/step - loss: 0.6506 - sparse_categorical_accuracy: 0.8205 - sparse_top_2_categorical_accuracy: 0.9306 - val_loss: 0.2834 - val_sparse_categorical_accuracy: 0.8884 - val_sparse_top_2_categorical_accuracy: 0.9665\n",
            "Epoch 2/5\n",
            "109/109 [==============================] - 273s 3s/step - loss: 0.4459 - sparse_categorical_accuracy: 0.8627 - sparse_top_2_categorical_accuracy: 0.9518 - val_loss: 0.2468 - val_sparse_categorical_accuracy: 0.9018 - val_sparse_top_2_categorical_accuracy: 0.9688\n",
            "Epoch 3/5\n",
            "109/109 [==============================] - 273s 3s/step - loss: 0.3770 - sparse_categorical_accuracy: 0.8873 - sparse_top_2_categorical_accuracy: 0.9593 - val_loss: 0.2397 - val_sparse_categorical_accuracy: 0.9174 - val_sparse_top_2_categorical_accuracy: 0.9688\n",
            "Epoch 4/5\n",
            "109/109 [==============================] - 273s 3s/step - loss: 0.2940 - sparse_categorical_accuracy: 0.9085 - sparse_top_2_categorical_accuracy: 0.9705 - val_loss: 0.2293 - val_sparse_categorical_accuracy: 0.9219 - val_sparse_top_2_categorical_accuracy: 0.9710\n",
            "Epoch 5/5\n",
            "109/109 [==============================] - 272s 2s/step - loss: 0.2356 - sparse_categorical_accuracy: 0.9286 - sparse_top_2_categorical_accuracy: 0.9782 - val_loss: 0.2377 - val_sparse_categorical_accuracy: 0.9263 - val_sparse_top_2_categorical_accuracy: 0.9710\n",
            "Train for 109 steps, validate for 14 steps\n",
            "Epoch 1/5\n",
            "109/109 [==============================] - 305s 3s/step - loss: 0.1839 - sparse_categorical_accuracy: 0.9441 - sparse_top_2_categorical_accuracy: 0.9874 - val_loss: 0.2145 - val_sparse_categorical_accuracy: 0.9397 - val_sparse_top_2_categorical_accuracy: 0.9665\n",
            "Epoch 2/5\n",
            "109/109 [==============================] - 273s 3s/step - loss: 0.1541 - sparse_categorical_accuracy: 0.9498 - sparse_top_2_categorical_accuracy: 0.9882 - val_loss: 0.2502 - val_sparse_categorical_accuracy: 0.9263 - val_sparse_top_2_categorical_accuracy: 0.9777\n",
            "Epoch 3/5\n",
            "109/109 [==============================] - 273s 3s/step - loss: 0.1351 - sparse_categorical_accuracy: 0.9536 - sparse_top_2_categorical_accuracy: 0.9928 - val_loss: 0.2523 - val_sparse_categorical_accuracy: 0.9353 - val_sparse_top_2_categorical_accuracy: 0.9799\n",
            "Epoch 4/5\n",
            "109/109 [==============================] - 273s 3s/step - loss: 0.0857 - sparse_categorical_accuracy: 0.9722 - sparse_top_2_categorical_accuracy: 0.9928 - val_loss: 0.2436 - val_sparse_categorical_accuracy: 0.9375 - val_sparse_top_2_categorical_accuracy: 0.9732\n",
            "Epoch 5/5\n",
            "109/109 [==============================] - 273s 3s/step - loss: 0.0926 - sparse_categorical_accuracy: 0.9731 - sparse_top_2_categorical_accuracy: 0.9925 - val_loss: 0.2421 - val_sparse_categorical_accuracy: 0.9375 - val_sparse_top_2_categorical_accuracy: 0.9710\n",
            "Train for 109 steps, validate for 14 steps\n",
            "Epoch 1/5\n",
            "109/109 [==============================] - 303s 3s/step - loss: 0.1353 - sparse_categorical_accuracy: 0.9570 - sparse_top_2_categorical_accuracy: 0.9908 - val_loss: 0.2130 - val_sparse_categorical_accuracy: 0.9397 - val_sparse_top_2_categorical_accuracy: 0.9688\n",
            "Epoch 2/5\n",
            "109/109 [==============================] - 271s 2s/step - loss: 0.1185 - sparse_categorical_accuracy: 0.9599 - sparse_top_2_categorical_accuracy: 0.9931 - val_loss: 0.2147 - val_sparse_categorical_accuracy: 0.9375 - val_sparse_top_2_categorical_accuracy: 0.9688\n",
            "Epoch 3/5\n",
            "109/109 [==============================] - 273s 3s/step - loss: 0.1189 - sparse_categorical_accuracy: 0.9601 - sparse_top_2_categorical_accuracy: 0.9931 - val_loss: 0.2162 - val_sparse_categorical_accuracy: 0.9375 - val_sparse_top_2_categorical_accuracy: 0.9688\n",
            "Epoch 4/5\n",
            "109/109 [==============================] - 271s 2s/step - loss: 0.1330 - sparse_categorical_accuracy: 0.9581 - sparse_top_2_categorical_accuracy: 0.9888 - val_loss: 0.2172 - val_sparse_categorical_accuracy: 0.9330 - val_sparse_top_2_categorical_accuracy: 0.9688\n",
            "Epoch 5/5\n",
            "109/109 [==============================] - 274s 3s/step - loss: 0.1393 - sparse_categorical_accuracy: 0.9547 - sparse_top_2_categorical_accuracy: 0.9931 - val_loss: 0.2168 - val_sparse_categorical_accuracy: 0.9375 - val_sparse_top_2_categorical_accuracy: 0.9688\n",
            "--------------------------------------------------------------------------------\n",
            "Name: xception Train Time: 79.9 min. Eval Time: 7.85s Loss: 0.2130 Accuracy: 93.97%\n",
            "--------------------------------------------------------------------------------\n"
          ],
          "name": "stdout"
        }
      ]
    },
    {
      "cell_type": "code",
      "metadata": {
        "id": "0eTtWKisJm0z",
        "colab_type": "code",
        "outputId": "f2fd984c-d042-4e12-c0e0-e85ea4a93e14",
        "colab": {
          "base_uri": "https://localhost:8080/",
          "height": 71
        }
      },
      "source": [
        "trainer.evaluate_dataset()"
      ],
      "execution_count": 0,
      "outputs": [
        {
          "output_type": "stream",
          "text": [
            "14/14 [==============================] - 8s 555ms/step - loss: 0.2130 - sparse_categorical_accuracy: 0.9397 - sparse_top_2_categorical_accuracy: 0.9688\n"
          ],
          "name": "stdout"
        },
        {
          "output_type": "execute_result",
          "data": {
            "text/plain": [
              "[0.21296972382281507, 0.93973213, 0.96875]"
            ]
          },
          "metadata": {
            "tags": []
          },
          "execution_count": 113
        }
      ]
    },
    {
      "cell_type": "code",
      "metadata": {
        "id": "0sUt8dxRw7Ze",
        "colab_type": "code",
        "colab": {}
      },
      "source": [
        "ds_analysis = trainer.analyse_dataset()"
      ],
      "execution_count": 0,
      "outputs": []
    },
    {
      "cell_type": "code",
      "metadata": {
        "id": "SJnXYxRww-ii",
        "colab_type": "code",
        "outputId": "1f11ccde-2af6-4b50-f754-6470e2c36ddc",
        "colab": {
          "base_uri": "https://localhost:8080/",
          "height": 221
        }
      },
      "source": [
        "print(classification_report(ds_analysis[\"label\"].values, ds_analysis[\"pred\"].values))"
      ],
      "execution_count": 0,
      "outputs": [
        {
          "output_type": "stream",
          "text": [
            "              precision    recall  f1-score   support\n",
            "\n",
            "       daisy       0.97      0.91      0.94        81\n",
            "   dandelion       0.94      0.98      0.96       113\n",
            "        rose       0.91      0.95      0.93        63\n",
            "   sunflower       0.96      0.93      0.94        80\n",
            "       tulip       0.92      0.92      0.92        96\n",
            "\n",
            "    accuracy                           0.94       433\n",
            "   macro avg       0.94      0.94      0.94       433\n",
            "weighted avg       0.94      0.94      0.94       433\n",
            "\n"
          ],
          "name": "stdout"
        }
      ]
    },
    {
      "cell_type": "code",
      "metadata": {
        "id": "3gvggqM1Jm05",
        "colab_type": "code",
        "outputId": "9c8b48cd-c92f-4abc-8e3f-8d83fdaa7327",
        "colab": {
          "base_uri": "https://localhost:8080/",
          "height": 238
        }
      },
      "source": [
        "trainer.predict_dataset()"
      ],
      "execution_count": 0,
      "outputs": [
        {
          "output_type": "execute_result",
          "data": {
            "text/plain": [
              "array([[6.3811064e-01, 2.6506661e-03, 7.2437629e-02, 1.7793449e-02,\n",
              "        2.6900768e-01],\n",
              "       [1.4747172e-02, 9.8232102e-01, 2.5946329e-07, 9.5742289e-04,\n",
              "        1.9741512e-03],\n",
              "       [1.8551377e-09, 9.9997878e-01, 8.6394891e-07, 2.0341544e-05,\n",
              "        4.2835985e-08],\n",
              "       ...,\n",
              "       [1.6146160e-08, 2.0900940e-08, 8.6052543e-10, 1.0663957e-09,\n",
              "        1.0000000e+00],\n",
              "       [1.0352473e-09, 9.7991233e-08, 1.3919524e-04, 1.3943089e-08,\n",
              "        9.9986064e-01],\n",
              "       [9.6148205e-01, 3.2867290e-02, 7.4837313e-05, 1.7264688e-04,\n",
              "        5.4031559e-03]], dtype=float32)"
            ]
          },
          "metadata": {
            "tags": []
          },
          "execution_count": 116
        }
      ]
    },
    {
      "cell_type": "code",
      "metadata": {
        "id": "IHWnRCFuJm09",
        "colab_type": "code",
        "outputId": "90e52cbc-4295-4dda-d856-782b2e6e3cb8",
        "colab": {
          "base_uri": "https://localhost:8080/",
          "height": 1000
        }
      },
      "source": [
        "trainer.analyse_dataset()"
      ],
      "execution_count": 0,
      "outputs": [
        {
          "output_type": "execute_result",
          "data": {
            "text/html": [
              "<div>\n",
              "<style scoped>\n",
              "    .dataframe tbody tr th:only-of-type {\n",
              "        vertical-align: middle;\n",
              "    }\n",
              "\n",
              "    .dataframe tbody tr th {\n",
              "        vertical-align: top;\n",
              "    }\n",
              "\n",
              "    .dataframe thead th {\n",
              "        text-align: right;\n",
              "    }\n",
              "</style>\n",
              "<table border=\"1\" class=\"dataframe\">\n",
              "  <thead>\n",
              "    <tr style=\"text-align: right;\">\n",
              "      <th></th>\n",
              "      <th>path</th>\n",
              "      <th>image</th>\n",
              "      <th>label</th>\n",
              "      <th>label_code</th>\n",
              "      <th>pred</th>\n",
              "      <th>pred_code</th>\n",
              "      <th>label_probs</th>\n",
              "      <th>pred_probs</th>\n",
              "    </tr>\n",
              "  </thead>\n",
              "  <tbody>\n",
              "    <tr>\n",
              "      <th>0</th>\n",
              "      <td>data/flowers2/flowers/daisy/4581199679_867652c...</td>\n",
              "      <td>[[[0.92549026, 0.8862746, 0.5019608], [0.92549...</td>\n",
              "      <td>daisy</td>\n",
              "      <td>0</td>\n",
              "      <td>daisy</td>\n",
              "      <td>0</td>\n",
              "      <td>0.638113</td>\n",
              "      <td>0.638113</td>\n",
              "    </tr>\n",
              "    <tr>\n",
              "      <th>1</th>\n",
              "      <td>data/flowers2/flowers/daisy/33830843653_ee6d79...</td>\n",
              "      <td>[[[0.121568635, 0.13333334, 0.027450982], [0.1...</td>\n",
              "      <td>daisy</td>\n",
              "      <td>0</td>\n",
              "      <td>dandelion</td>\n",
              "      <td>1</td>\n",
              "      <td>0.014747</td>\n",
              "      <td>0.982321</td>\n",
              "    </tr>\n",
              "    <tr>\n",
              "      <th>2</th>\n",
              "      <td>data/flowers2/flowers/dandelion/6412422565_ce6...</td>\n",
              "      <td>[[[0.5254902, 0.6, 0.24705884], [0.5724245, 0....</td>\n",
              "      <td>dandelion</td>\n",
              "      <td>1</td>\n",
              "      <td>dandelion</td>\n",
              "      <td>1</td>\n",
              "      <td>0.999979</td>\n",
              "      <td>0.999979</td>\n",
              "    </tr>\n",
              "    <tr>\n",
              "      <th>3</th>\n",
              "      <td>data/flowers2/flowers/tulip/20910465721_fd8dcc...</td>\n",
              "      <td>[[[0.38823533, 0.454902, 0.32156864], [0.38080...</td>\n",
              "      <td>tulip</td>\n",
              "      <td>4</td>\n",
              "      <td>tulip</td>\n",
              "      <td>4</td>\n",
              "      <td>0.999970</td>\n",
              "      <td>0.999970</td>\n",
              "    </tr>\n",
              "    <tr>\n",
              "      <th>4</th>\n",
              "      <td>data/flowers2/flowers/tulip/2436998042_4906ea0...</td>\n",
              "      <td>[[[0.0014748488, 0.0014748488, 0.0013181193], ...</td>\n",
              "      <td>tulip</td>\n",
              "      <td>4</td>\n",
              "      <td>tulip</td>\n",
              "      <td>4</td>\n",
              "      <td>0.999140</td>\n",
              "      <td>0.999140</td>\n",
              "    </tr>\n",
              "    <tr>\n",
              "      <th>5</th>\n",
              "      <td>data/flowers2/flowers/tulip/3498663243_42b39b4...</td>\n",
              "      <td>[[[0.6784314, 0.8470589, 0.9843138], [0.680011...</td>\n",
              "      <td>tulip</td>\n",
              "      <td>4</td>\n",
              "      <td>tulip</td>\n",
              "      <td>4</td>\n",
              "      <td>0.999658</td>\n",
              "      <td>0.999658</td>\n",
              "    </tr>\n",
              "    <tr>\n",
              "      <th>6</th>\n",
              "      <td>data/flowers2/flowers/dandelion/18010259565_d6...</td>\n",
              "      <td>[[[0.32507706, 0.41919473, 0.2937045], [0.3128...</td>\n",
              "      <td>dandelion</td>\n",
              "      <td>1</td>\n",
              "      <td>dandelion</td>\n",
              "      <td>1</td>\n",
              "      <td>0.999917</td>\n",
              "      <td>0.999917</td>\n",
              "    </tr>\n",
              "    <tr>\n",
              "      <th>7</th>\n",
              "      <td>data/flowers2/flowers/dandelion/22190242684_8c...</td>\n",
              "      <td>[[[0.0, 0.33680898, 0.34073055], [0.0, 0.33699...</td>\n",
              "      <td>dandelion</td>\n",
              "      <td>1</td>\n",
              "      <td>dandelion</td>\n",
              "      <td>1</td>\n",
              "      <td>0.999836</td>\n",
              "      <td>0.999836</td>\n",
              "    </tr>\n",
              "    <tr>\n",
              "      <th>8</th>\n",
              "      <td>data/flowers2/flowers/sunflower/20753711039_0b...</td>\n",
              "      <td>[[[0.5786019, 0.38740906, 0.0842088], [0.53643...</td>\n",
              "      <td>sunflower</td>\n",
              "      <td>3</td>\n",
              "      <td>sunflower</td>\n",
              "      <td>3</td>\n",
              "      <td>0.999544</td>\n",
              "      <td>0.999544</td>\n",
              "    </tr>\n",
              "    <tr>\n",
              "      <th>9</th>\n",
              "      <td>data/flowers2/flowers/dandelion/5598591979_ed9...</td>\n",
              "      <td>[[[0.3276215, 0.3253525, 0.48083812], [0.27595...</td>\n",
              "      <td>dandelion</td>\n",
              "      <td>1</td>\n",
              "      <td>dandelion</td>\n",
              "      <td>1</td>\n",
              "      <td>0.999996</td>\n",
              "      <td>0.999996</td>\n",
              "    </tr>\n",
              "    <tr>\n",
              "      <th>10</th>\n",
              "      <td>data/flowers2/flowers/daisy/7335886184_d06a83f...</td>\n",
              "      <td>[[[0.32803935, 0.39599138, 0.29403058], [0.337...</td>\n",
              "      <td>daisy</td>\n",
              "      <td>0</td>\n",
              "      <td>daisy</td>\n",
              "      <td>0</td>\n",
              "      <td>0.999897</td>\n",
              "      <td>0.999897</td>\n",
              "    </tr>\n",
              "    <tr>\n",
              "      <th>11</th>\n",
              "      <td>data/flowers2/flowers/dandelion/3589816063_50f...</td>\n",
              "      <td>[[[0.27058825, 0.26666668, 0.18823531], [0.268...</td>\n",
              "      <td>dandelion</td>\n",
              "      <td>1</td>\n",
              "      <td>dandelion</td>\n",
              "      <td>1</td>\n",
              "      <td>0.999824</td>\n",
              "      <td>0.999824</td>\n",
              "    </tr>\n",
              "    <tr>\n",
              "      <th>12</th>\n",
              "      <td>data/flowers2/flowers/tulip/2280950463_86510c2...</td>\n",
              "      <td>[[[0.22249985, 0.29350123, 0.38803205], [0.309...</td>\n",
              "      <td>tulip</td>\n",
              "      <td>4</td>\n",
              "      <td>tulip</td>\n",
              "      <td>4</td>\n",
              "      <td>1.000000</td>\n",
              "      <td>1.000000</td>\n",
              "    </tr>\n",
              "    <tr>\n",
              "      <th>13</th>\n",
              "      <td>data/flowers2/flowers/tulip/12916441224_2ed635...</td>\n",
              "      <td>[[[0.57241136, 0.3488819, 0.040455114], [0.568...</td>\n",
              "      <td>tulip</td>\n",
              "      <td>4</td>\n",
              "      <td>tulip</td>\n",
              "      <td>4</td>\n",
              "      <td>0.999861</td>\n",
              "      <td>0.999861</td>\n",
              "    </tr>\n",
              "    <tr>\n",
              "      <th>14</th>\n",
              "      <td>data/flowers2/flowers/daisy/14087947408_977925...</td>\n",
              "      <td>[[[0.2785691, 0.43543187, 0.22758871], [0.2798...</td>\n",
              "      <td>daisy</td>\n",
              "      <td>0</td>\n",
              "      <td>daisy</td>\n",
              "      <td>0</td>\n",
              "      <td>0.961482</td>\n",
              "      <td>0.961482</td>\n",
              "    </tr>\n",
              "    <tr>\n",
              "      <th>15</th>\n",
              "      <td>data/flowers2/flowers/tulip/444963906_e41492b6...</td>\n",
              "      <td>[[[0.22356853, 0.0828634, 0.103313856], [0.412...</td>\n",
              "      <td>tulip</td>\n",
              "      <td>4</td>\n",
              "      <td>tulip</td>\n",
              "      <td>4</td>\n",
              "      <td>0.826258</td>\n",
              "      <td>0.826258</td>\n",
              "    </tr>\n",
              "    <tr>\n",
              "      <th>16</th>\n",
              "      <td>data/flowers2/flowers/sunflower/23247483352_0d...</td>\n",
              "      <td>[[[0.8747853, 0.81272876, 0.82490665], [0.8827...</td>\n",
              "      <td>sunflower</td>\n",
              "      <td>3</td>\n",
              "      <td>sunflower</td>\n",
              "      <td>3</td>\n",
              "      <td>0.999970</td>\n",
              "      <td>0.999970</td>\n",
              "    </tr>\n",
              "    <tr>\n",
              "      <th>17</th>\n",
              "      <td>data/flowers2/flowers/rose/12202373204_34fb072...</td>\n",
              "      <td>[[[0.31443083, 0.22815634, 0.1820868], [0.2666...</td>\n",
              "      <td>rose</td>\n",
              "      <td>2</td>\n",
              "      <td>rose</td>\n",
              "      <td>2</td>\n",
              "      <td>0.999987</td>\n",
              "      <td>0.999987</td>\n",
              "    </tr>\n",
              "    <tr>\n",
              "      <th>18</th>\n",
              "      <td>data/flowers2/flowers/tulip/16702117379_c25bff...</td>\n",
              "      <td>[[[0.08235294, 0.054901965, 0.03137255], [0.07...</td>\n",
              "      <td>tulip</td>\n",
              "      <td>4</td>\n",
              "      <td>tulip</td>\n",
              "      <td>4</td>\n",
              "      <td>0.999956</td>\n",
              "      <td>0.999956</td>\n",
              "    </tr>\n",
              "    <tr>\n",
              "      <th>19</th>\n",
              "      <td>data/flowers2/flowers/daisy/8021540573_c56cf90...</td>\n",
              "      <td>[[[0.5686275, 0.5061578, 0.27045053], [0.56945...</td>\n",
              "      <td>daisy</td>\n",
              "      <td>0</td>\n",
              "      <td>dandelion</td>\n",
              "      <td>1</td>\n",
              "      <td>0.339817</td>\n",
              "      <td>0.659760</td>\n",
              "    </tr>\n",
              "    <tr>\n",
              "      <th>20</th>\n",
              "      <td>data/flowers2/flowers/rose/15811411368_f4f2cd8...</td>\n",
              "      <td>[[[0.07058824, 0.054901965, 0.011764707], [0.0...</td>\n",
              "      <td>rose</td>\n",
              "      <td>2</td>\n",
              "      <td>rose</td>\n",
              "      <td>2</td>\n",
              "      <td>0.999905</td>\n",
              "      <td>0.999905</td>\n",
              "    </tr>\n",
              "    <tr>\n",
              "      <th>21</th>\n",
              "      <td>data/flowers2/flowers/sunflower/8266310743_020...</td>\n",
              "      <td>[[[0.5803922, 0.48235297, 0.16862746], [0.4971...</td>\n",
              "      <td>sunflower</td>\n",
              "      <td>3</td>\n",
              "      <td>sunflower</td>\n",
              "      <td>3</td>\n",
              "      <td>1.000000</td>\n",
              "      <td>1.000000</td>\n",
              "    </tr>\n",
              "    <tr>\n",
              "      <th>22</th>\n",
              "      <td>data/flowers2/flowers/daisy/754248840_95092de2...</td>\n",
              "      <td>[[[0.1439926, 0.23483507, 0.0076220366], [0.07...</td>\n",
              "      <td>daisy</td>\n",
              "      <td>0</td>\n",
              "      <td>daisy</td>\n",
              "      <td>0</td>\n",
              "      <td>0.999914</td>\n",
              "      <td>0.999914</td>\n",
              "    </tr>\n",
              "    <tr>\n",
              "      <th>23</th>\n",
              "      <td>data/flowers2/flowers/rose/5073473370_bdbb5a99...</td>\n",
              "      <td>[[[0.51203644, 0.39831093, 0.28066385], [0.509...</td>\n",
              "      <td>rose</td>\n",
              "      <td>2</td>\n",
              "      <td>rose</td>\n",
              "      <td>2</td>\n",
              "      <td>0.999487</td>\n",
              "      <td>0.999487</td>\n",
              "    </tr>\n",
              "    <tr>\n",
              "      <th>24</th>\n",
              "      <td>data/flowers2/flowers/sunflower/4745980581_a0b...</td>\n",
              "      <td>[[[0.6718277, 0.51496494, 0.0], [0.6934881, 0....</td>\n",
              "      <td>sunflower</td>\n",
              "      <td>3</td>\n",
              "      <td>sunflower</td>\n",
              "      <td>3</td>\n",
              "      <td>0.979583</td>\n",
              "      <td>0.979583</td>\n",
              "    </tr>\n",
              "    <tr>\n",
              "      <th>25</th>\n",
              "      <td>data/flowers2/flowers/tulip/5674132053_b40a7d3...</td>\n",
              "      <td>[[[0.42947444, 0.45219198, 0.10564093], [0.418...</td>\n",
              "      <td>tulip</td>\n",
              "      <td>4</td>\n",
              "      <td>daisy</td>\n",
              "      <td>0</td>\n",
              "      <td>0.440938</td>\n",
              "      <td>0.477667</td>\n",
              "    </tr>\n",
              "    <tr>\n",
              "      <th>26</th>\n",
              "      <td>data/flowers2/flowers/sunflower/4895721788_f10...</td>\n",
              "      <td>[[[0.058961246, 0.12913634, 0.035431832], [0.0...</td>\n",
              "      <td>sunflower</td>\n",
              "      <td>3</td>\n",
              "      <td>sunflower</td>\n",
              "      <td>3</td>\n",
              "      <td>0.998344</td>\n",
              "      <td>0.998344</td>\n",
              "    </tr>\n",
              "    <tr>\n",
              "      <th>27</th>\n",
              "      <td>data/flowers2/flowers/rose/466486216_ab13b5576...</td>\n",
              "      <td>[[[0.43304014, 0.5479048, 0.5908172], [0.40577...</td>\n",
              "      <td>rose</td>\n",
              "      <td>2</td>\n",
              "      <td>rose</td>\n",
              "      <td>2</td>\n",
              "      <td>0.999978</td>\n",
              "      <td>0.999978</td>\n",
              "    </tr>\n",
              "    <tr>\n",
              "      <th>28</th>\n",
              "      <td>data/flowers2/flowers/tulip/8713390684_041148d...</td>\n",
              "      <td>[[[0.3488819, 0.0037838551, 0.0], [0.34427178,...</td>\n",
              "      <td>tulip</td>\n",
              "      <td>4</td>\n",
              "      <td>tulip</td>\n",
              "      <td>4</td>\n",
              "      <td>1.000000</td>\n",
              "      <td>1.000000</td>\n",
              "    </tr>\n",
              "    <tr>\n",
              "      <th>29</th>\n",
              "      <td>data/flowers2/flowers/tulip/3540595981_73f14d1...</td>\n",
              "      <td>[[[0.8473343, 0.40316746, 0.59284544], [0.8553...</td>\n",
              "      <td>tulip</td>\n",
              "      <td>4</td>\n",
              "      <td>tulip</td>\n",
              "      <td>4</td>\n",
              "      <td>0.999934</td>\n",
              "      <td>0.999934</td>\n",
              "    </tr>\n",
              "    <tr>\n",
              "      <th>...</th>\n",
              "      <td>...</td>\n",
              "      <td>...</td>\n",
              "      <td>...</td>\n",
              "      <td>...</td>\n",
              "      <td>...</td>\n",
              "      <td>...</td>\n",
              "      <td>...</td>\n",
              "      <td>...</td>\n",
              "    </tr>\n",
              "    <tr>\n",
              "      <th>403</th>\n",
              "      <td>data/flowers2/flowers/tulip/497305666_b5d43488...</td>\n",
              "      <td>[[[0.26625353, 0.34681618, 0.5261722], [0.2648...</td>\n",
              "      <td>tulip</td>\n",
              "      <td>4</td>\n",
              "      <td>tulip</td>\n",
              "      <td>4</td>\n",
              "      <td>0.988116</td>\n",
              "      <td>0.988116</td>\n",
              "    </tr>\n",
              "    <tr>\n",
              "      <th>404</th>\n",
              "      <td>data/flowers2/flowers/tulip/5811004432_266f0f0...</td>\n",
              "      <td>[[[0.0016066629, 0.01337137, 0.0], [0.00014427...</td>\n",
              "      <td>tulip</td>\n",
              "      <td>4</td>\n",
              "      <td>tulip</td>\n",
              "      <td>4</td>\n",
              "      <td>0.997083</td>\n",
              "      <td>0.997083</td>\n",
              "    </tr>\n",
              "    <tr>\n",
              "      <th>405</th>\n",
              "      <td>data/flowers2/flowers/sunflower/265450085_6e9f...</td>\n",
              "      <td>[[[0.6023992, 0.4816709, 0.010861593], [0.5367...</td>\n",
              "      <td>sunflower</td>\n",
              "      <td>3</td>\n",
              "      <td>sunflower</td>\n",
              "      <td>3</td>\n",
              "      <td>0.999982</td>\n",
              "      <td>0.999982</td>\n",
              "    </tr>\n",
              "    <tr>\n",
              "      <th>406</th>\n",
              "      <td>data/flowers2/flowers/tulip/11614202956_1dcf1c...</td>\n",
              "      <td>[[[0.0995101, 0.17383628, 0.0994183], [0.10199...</td>\n",
              "      <td>tulip</td>\n",
              "      <td>4</td>\n",
              "      <td>tulip</td>\n",
              "      <td>4</td>\n",
              "      <td>0.996522</td>\n",
              "      <td>0.996522</td>\n",
              "    </tr>\n",
              "    <tr>\n",
              "      <th>407</th>\n",
              "      <td>data/flowers2/flowers/dandelion/33882910234_dd...</td>\n",
              "      <td>[[[0.19215688, 0.3803922, 0.0], [0.19215688, 0...</td>\n",
              "      <td>dandelion</td>\n",
              "      <td>1</td>\n",
              "      <td>dandelion</td>\n",
              "      <td>1</td>\n",
              "      <td>0.997920</td>\n",
              "      <td>0.997920</td>\n",
              "    </tr>\n",
              "    <tr>\n",
              "      <th>408</th>\n",
              "      <td>data/flowers2/flowers/rose/5336559428_71e8b58a...</td>\n",
              "      <td>[[[0.34509805, 0.41176474, 0.5921569], [0.3474...</td>\n",
              "      <td>rose</td>\n",
              "      <td>2</td>\n",
              "      <td>rose</td>\n",
              "      <td>2</td>\n",
              "      <td>0.990102</td>\n",
              "      <td>0.990102</td>\n",
              "    </tr>\n",
              "    <tr>\n",
              "      <th>409</th>\n",
              "      <td>data/flowers2/flowers/sunflower/5180859236_60a...</td>\n",
              "      <td>[[[1.0, 0.9176471, 0.9921569], [0.95582664, 0....</td>\n",
              "      <td>sunflower</td>\n",
              "      <td>3</td>\n",
              "      <td>sunflower</td>\n",
              "      <td>3</td>\n",
              "      <td>0.999983</td>\n",
              "      <td>0.999983</td>\n",
              "    </tr>\n",
              "    <tr>\n",
              "      <th>410</th>\n",
              "      <td>data/flowers2/flowers/tulip/20116517681_2f10db...</td>\n",
              "      <td>[[[0.5764706, 0.06666667, 0.20000002], [0.5818...</td>\n",
              "      <td>tulip</td>\n",
              "      <td>4</td>\n",
              "      <td>tulip</td>\n",
              "      <td>4</td>\n",
              "      <td>0.999908</td>\n",
              "      <td>0.999908</td>\n",
              "    </tr>\n",
              "    <tr>\n",
              "      <th>411</th>\n",
              "      <td>data/flowers2/flowers/daisy/5586977262_6b24412...</td>\n",
              "      <td>[[[0.013692701, 0.038048398, 0.26412225], [0.0...</td>\n",
              "      <td>daisy</td>\n",
              "      <td>0</td>\n",
              "      <td>daisy</td>\n",
              "      <td>0</td>\n",
              "      <td>0.992587</td>\n",
              "      <td>0.992587</td>\n",
              "    </tr>\n",
              "    <tr>\n",
              "      <th>412</th>\n",
              "      <td>data/flowers2/flowers/daisy/3552074420_2a0a716...</td>\n",
              "      <td>[[[0.3137255, 0.3803922, 0.1764706], [0.313725...</td>\n",
              "      <td>daisy</td>\n",
              "      <td>0</td>\n",
              "      <td>daisy</td>\n",
              "      <td>0</td>\n",
              "      <td>0.944272</td>\n",
              "      <td>0.944272</td>\n",
              "    </tr>\n",
              "    <tr>\n",
              "      <th>413</th>\n",
              "      <td>data/flowers2/flowers/daisy/1396526833_fb86716...</td>\n",
              "      <td>[[[0.0, 0.0, 0.0], [0.0, 0.0, 0.0], [0.0, 0.0,...</td>\n",
              "      <td>daisy</td>\n",
              "      <td>0</td>\n",
              "      <td>daisy</td>\n",
              "      <td>0</td>\n",
              "      <td>0.992861</td>\n",
              "      <td>0.992861</td>\n",
              "    </tr>\n",
              "    <tr>\n",
              "      <th>414</th>\n",
              "      <td>data/flowers2/flowers/sunflower/4877195645_791...</td>\n",
              "      <td>[[[1.0, 1.0, 1.0], [1.0, 1.0, 1.0], [1.0, 1.0,...</td>\n",
              "      <td>sunflower</td>\n",
              "      <td>3</td>\n",
              "      <td>sunflower</td>\n",
              "      <td>3</td>\n",
              "      <td>0.999999</td>\n",
              "      <td>0.999999</td>\n",
              "    </tr>\n",
              "    <tr>\n",
              "      <th>415</th>\n",
              "      <td>data/flowers2/flowers/tulip/7166606598_5d2cd30...</td>\n",
              "      <td>[[[0.15686275, 0.2627451, 0.0], [0.2120795, 0....</td>\n",
              "      <td>tulip</td>\n",
              "      <td>4</td>\n",
              "      <td>tulip</td>\n",
              "      <td>4</td>\n",
              "      <td>0.974058</td>\n",
              "      <td>0.974058</td>\n",
              "    </tr>\n",
              "    <tr>\n",
              "      <th>416</th>\n",
              "      <td>data/flowers2/flowers/dandelion/5670543216_8c4...</td>\n",
              "      <td>[[[0.027450982, 0.0, 0.0], [0.015961703, 0.009...</td>\n",
              "      <td>dandelion</td>\n",
              "      <td>1</td>\n",
              "      <td>dandelion</td>\n",
              "      <td>1</td>\n",
              "      <td>0.997997</td>\n",
              "      <td>0.997997</td>\n",
              "    </tr>\n",
              "    <tr>\n",
              "      <th>417</th>\n",
              "      <td>data/flowers2/flowers/daisy/10391248763_1d1668...</td>\n",
              "      <td>[[[0.9328481, 0.9972457, 0.9335367], [0.774168...</td>\n",
              "      <td>daisy</td>\n",
              "      <td>0</td>\n",
              "      <td>daisy</td>\n",
              "      <td>0</td>\n",
              "      <td>0.992810</td>\n",
              "      <td>0.992810</td>\n",
              "    </tr>\n",
              "    <tr>\n",
              "      <th>418</th>\n",
              "      <td>data/flowers2/flowers/tulip/16055807744_000bc0...</td>\n",
              "      <td>[[[0.7176471, 0.72156864, 0.6901961], [0.72316...</td>\n",
              "      <td>tulip</td>\n",
              "      <td>4</td>\n",
              "      <td>tulip</td>\n",
              "      <td>4</td>\n",
              "      <td>0.999945</td>\n",
              "      <td>0.999945</td>\n",
              "    </tr>\n",
              "    <tr>\n",
              "      <th>419</th>\n",
              "      <td>data/flowers2/flowers/dandelion/14648777167_1d...</td>\n",
              "      <td>[[[0.46191886, 0.5518395, 0.45111814], [0.4379...</td>\n",
              "      <td>dandelion</td>\n",
              "      <td>1</td>\n",
              "      <td>dandelion</td>\n",
              "      <td>1</td>\n",
              "      <td>0.601634</td>\n",
              "      <td>0.601634</td>\n",
              "    </tr>\n",
              "    <tr>\n",
              "      <th>420</th>\n",
              "      <td>data/flowers2/flowers/dandelion/14012247974_69...</td>\n",
              "      <td>[[[0.50186247, 0.5253591, 0.06386648], [0.5406...</td>\n",
              "      <td>dandelion</td>\n",
              "      <td>1</td>\n",
              "      <td>dandelion</td>\n",
              "      <td>1</td>\n",
              "      <td>0.999998</td>\n",
              "      <td>0.999998</td>\n",
              "    </tr>\n",
              "    <tr>\n",
              "      <th>421</th>\n",
              "      <td>data/flowers2/flowers/rose/9369421752_db1ab2a6...</td>\n",
              "      <td>[[[0.19607845, 0.3647059, 0.5803922], [0.19866...</td>\n",
              "      <td>rose</td>\n",
              "      <td>2</td>\n",
              "      <td>rose</td>\n",
              "      <td>2</td>\n",
              "      <td>0.983015</td>\n",
              "      <td>0.983015</td>\n",
              "    </tr>\n",
              "    <tr>\n",
              "      <th>422</th>\n",
              "      <td>data/flowers2/flowers/dandelion/5862288632_1df...</td>\n",
              "      <td>[[[0.1724738, 0.22729862, 0.09811829], [0.1687...</td>\n",
              "      <td>dandelion</td>\n",
              "      <td>1</td>\n",
              "      <td>dandelion</td>\n",
              "      <td>1</td>\n",
              "      <td>0.999997</td>\n",
              "      <td>0.999997</td>\n",
              "    </tr>\n",
              "    <tr>\n",
              "      <th>423</th>\n",
              "      <td>data/flowers2/flowers/daisy/16577886423_9b2362...</td>\n",
              "      <td>[[[0.078431375, 0.07450981, 0.0], [0.078431375...</td>\n",
              "      <td>daisy</td>\n",
              "      <td>0</td>\n",
              "      <td>daisy</td>\n",
              "      <td>0</td>\n",
              "      <td>1.000000</td>\n",
              "      <td>1.000000</td>\n",
              "    </tr>\n",
              "    <tr>\n",
              "      <th>424</th>\n",
              "      <td>data/flowers2/flowers/tulip/14270573963_f122c4...</td>\n",
              "      <td>[[[0.24837695, 0.13072988, 0.0], [0.25094762, ...</td>\n",
              "      <td>tulip</td>\n",
              "      <td>4</td>\n",
              "      <td>tulip</td>\n",
              "      <td>4</td>\n",
              "      <td>1.000000</td>\n",
              "      <td>1.000000</td>\n",
              "    </tr>\n",
              "    <tr>\n",
              "      <th>425</th>\n",
              "      <td>data/flowers2/flowers/tulip/15516715153_08abc9...</td>\n",
              "      <td>[[[0.03825169, 0.12184406, 0.13209392], [0.031...</td>\n",
              "      <td>tulip</td>\n",
              "      <td>4</td>\n",
              "      <td>tulip</td>\n",
              "      <td>4</td>\n",
              "      <td>0.999997</td>\n",
              "      <td>0.999997</td>\n",
              "    </tr>\n",
              "    <tr>\n",
              "      <th>426</th>\n",
              "      <td>data/flowers2/flowers/tulip/20708492111_35757c...</td>\n",
              "      <td>[[[0.43921572, 0.4156863, 0.42352945], [0.3729...</td>\n",
              "      <td>tulip</td>\n",
              "      <td>4</td>\n",
              "      <td>tulip</td>\n",
              "      <td>4</td>\n",
              "      <td>0.977237</td>\n",
              "      <td>0.977237</td>\n",
              "    </tr>\n",
              "    <tr>\n",
              "      <th>427</th>\n",
              "      <td>data/flowers2/flowers/tulip/4418204816_018375a...</td>\n",
              "      <td>[[[0.0, 0.0, 0.0], [0.0, 0.0, 0.0], [0.0, 0.0,...</td>\n",
              "      <td>tulip</td>\n",
              "      <td>4</td>\n",
              "      <td>tulip</td>\n",
              "      <td>4</td>\n",
              "      <td>0.991185</td>\n",
              "      <td>0.991185</td>\n",
              "    </tr>\n",
              "    <tr>\n",
              "      <th>428</th>\n",
              "      <td>data/flowers2/flowers/tulip/4522764992_e9d70b8...</td>\n",
              "      <td>[[[0.003921569, 0.050980397, 0.0], [0.00210505...</td>\n",
              "      <td>tulip</td>\n",
              "      <td>4</td>\n",
              "      <td>rose</td>\n",
              "      <td>2</td>\n",
              "      <td>0.005084</td>\n",
              "      <td>0.960622</td>\n",
              "    </tr>\n",
              "    <tr>\n",
              "      <th>429</th>\n",
              "      <td>data/flowers2/flowers/sunflower/6606809995_ede...</td>\n",
              "      <td>[[[0.19607845, 0.20000002, 0.18039216], [0.177...</td>\n",
              "      <td>sunflower</td>\n",
              "      <td>3</td>\n",
              "      <td>sunflower</td>\n",
              "      <td>3</td>\n",
              "      <td>0.962074</td>\n",
              "      <td>0.962074</td>\n",
              "    </tr>\n",
              "    <tr>\n",
              "      <th>430</th>\n",
              "      <td>data/flowers2/flowers/sunflower/7820626738_3be...</td>\n",
              "      <td>[[[0.948882, 0.99580306, 0.9801168], [0.946337...</td>\n",
              "      <td>sunflower</td>\n",
              "      <td>3</td>\n",
              "      <td>sunflower</td>\n",
              "      <td>3</td>\n",
              "      <td>0.999932</td>\n",
              "      <td>0.999932</td>\n",
              "    </tr>\n",
              "    <tr>\n",
              "      <th>431</th>\n",
              "      <td>data/flowers2/flowers/dandelion/2477986396_19d...</td>\n",
              "      <td>[[[0.5921569, 0.654902, 0.5137255], [0.5975474...</td>\n",
              "      <td>dandelion</td>\n",
              "      <td>1</td>\n",
              "      <td>dandelion</td>\n",
              "      <td>1</td>\n",
              "      <td>0.999993</td>\n",
              "      <td>0.999993</td>\n",
              "    </tr>\n",
              "    <tr>\n",
              "      <th>432</th>\n",
              "      <td>data/flowers2/flowers/dandelion/5681951567_d3b...</td>\n",
              "      <td>[[[0.0, 0.46274513, 0.7490196], [0.0, 0.464778...</td>\n",
              "      <td>dandelion</td>\n",
              "      <td>1</td>\n",
              "      <td>dandelion</td>\n",
              "      <td>1</td>\n",
              "      <td>0.999999</td>\n",
              "      <td>0.999999</td>\n",
              "    </tr>\n",
              "  </tbody>\n",
              "</table>\n",
              "<p>433 rows × 8 columns</p>\n",
              "</div>"
            ],
            "text/plain": [
              "                                                  path  ... pred_probs\n",
              "0    data/flowers2/flowers/daisy/4581199679_867652c...  ...   0.638113\n",
              "1    data/flowers2/flowers/daisy/33830843653_ee6d79...  ...   0.982321\n",
              "2    data/flowers2/flowers/dandelion/6412422565_ce6...  ...   0.999979\n",
              "3    data/flowers2/flowers/tulip/20910465721_fd8dcc...  ...   0.999970\n",
              "4    data/flowers2/flowers/tulip/2436998042_4906ea0...  ...   0.999140\n",
              "5    data/flowers2/flowers/tulip/3498663243_42b39b4...  ...   0.999658\n",
              "6    data/flowers2/flowers/dandelion/18010259565_d6...  ...   0.999917\n",
              "7    data/flowers2/flowers/dandelion/22190242684_8c...  ...   0.999836\n",
              "8    data/flowers2/flowers/sunflower/20753711039_0b...  ...   0.999544\n",
              "9    data/flowers2/flowers/dandelion/5598591979_ed9...  ...   0.999996\n",
              "10   data/flowers2/flowers/daisy/7335886184_d06a83f...  ...   0.999897\n",
              "11   data/flowers2/flowers/dandelion/3589816063_50f...  ...   0.999824\n",
              "12   data/flowers2/flowers/tulip/2280950463_86510c2...  ...   1.000000\n",
              "13   data/flowers2/flowers/tulip/12916441224_2ed635...  ...   0.999861\n",
              "14   data/flowers2/flowers/daisy/14087947408_977925...  ...   0.961482\n",
              "15   data/flowers2/flowers/tulip/444963906_e41492b6...  ...   0.826258\n",
              "16   data/flowers2/flowers/sunflower/23247483352_0d...  ...   0.999970\n",
              "17   data/flowers2/flowers/rose/12202373204_34fb072...  ...   0.999987\n",
              "18   data/flowers2/flowers/tulip/16702117379_c25bff...  ...   0.999956\n",
              "19   data/flowers2/flowers/daisy/8021540573_c56cf90...  ...   0.659760\n",
              "20   data/flowers2/flowers/rose/15811411368_f4f2cd8...  ...   0.999905\n",
              "21   data/flowers2/flowers/sunflower/8266310743_020...  ...   1.000000\n",
              "22   data/flowers2/flowers/daisy/754248840_95092de2...  ...   0.999914\n",
              "23   data/flowers2/flowers/rose/5073473370_bdbb5a99...  ...   0.999487\n",
              "24   data/flowers2/flowers/sunflower/4745980581_a0b...  ...   0.979583\n",
              "25   data/flowers2/flowers/tulip/5674132053_b40a7d3...  ...   0.477667\n",
              "26   data/flowers2/flowers/sunflower/4895721788_f10...  ...   0.998344\n",
              "27   data/flowers2/flowers/rose/466486216_ab13b5576...  ...   0.999978\n",
              "28   data/flowers2/flowers/tulip/8713390684_041148d...  ...   1.000000\n",
              "29   data/flowers2/flowers/tulip/3540595981_73f14d1...  ...   0.999934\n",
              "..                                                 ...  ...        ...\n",
              "403  data/flowers2/flowers/tulip/497305666_b5d43488...  ...   0.988116\n",
              "404  data/flowers2/flowers/tulip/5811004432_266f0f0...  ...   0.997083\n",
              "405  data/flowers2/flowers/sunflower/265450085_6e9f...  ...   0.999982\n",
              "406  data/flowers2/flowers/tulip/11614202956_1dcf1c...  ...   0.996522\n",
              "407  data/flowers2/flowers/dandelion/33882910234_dd...  ...   0.997920\n",
              "408  data/flowers2/flowers/rose/5336559428_71e8b58a...  ...   0.990102\n",
              "409  data/flowers2/flowers/sunflower/5180859236_60a...  ...   0.999983\n",
              "410  data/flowers2/flowers/tulip/20116517681_2f10db...  ...   0.999908\n",
              "411  data/flowers2/flowers/daisy/5586977262_6b24412...  ...   0.992587\n",
              "412  data/flowers2/flowers/daisy/3552074420_2a0a716...  ...   0.944272\n",
              "413  data/flowers2/flowers/daisy/1396526833_fb86716...  ...   0.992861\n",
              "414  data/flowers2/flowers/sunflower/4877195645_791...  ...   0.999999\n",
              "415  data/flowers2/flowers/tulip/7166606598_5d2cd30...  ...   0.974058\n",
              "416  data/flowers2/flowers/dandelion/5670543216_8c4...  ...   0.997997\n",
              "417  data/flowers2/flowers/daisy/10391248763_1d1668...  ...   0.992810\n",
              "418  data/flowers2/flowers/tulip/16055807744_000bc0...  ...   0.999945\n",
              "419  data/flowers2/flowers/dandelion/14648777167_1d...  ...   0.601634\n",
              "420  data/flowers2/flowers/dandelion/14012247974_69...  ...   0.999998\n",
              "421  data/flowers2/flowers/rose/9369421752_db1ab2a6...  ...   0.983015\n",
              "422  data/flowers2/flowers/dandelion/5862288632_1df...  ...   0.999997\n",
              "423  data/flowers2/flowers/daisy/16577886423_9b2362...  ...   1.000000\n",
              "424  data/flowers2/flowers/tulip/14270573963_f122c4...  ...   1.000000\n",
              "425  data/flowers2/flowers/tulip/15516715153_08abc9...  ...   0.999997\n",
              "426  data/flowers2/flowers/tulip/20708492111_35757c...  ...   0.977237\n",
              "427  data/flowers2/flowers/tulip/4418204816_018375a...  ...   0.991185\n",
              "428  data/flowers2/flowers/tulip/4522764992_e9d70b8...  ...   0.960622\n",
              "429  data/flowers2/flowers/sunflower/6606809995_ede...  ...   0.962074\n",
              "430  data/flowers2/flowers/sunflower/7820626738_3be...  ...   0.999932\n",
              "431  data/flowers2/flowers/dandelion/2477986396_19d...  ...   0.999993\n",
              "432  data/flowers2/flowers/dandelion/5681951567_d3b...  ...   0.999999\n",
              "\n",
              "[433 rows x 8 columns]"
            ]
          },
          "metadata": {
            "tags": []
          },
          "execution_count": 117
        }
      ]
    },
    {
      "cell_type": "code",
      "metadata": {
        "id": "k4Ot3xWtJm1A",
        "colab_type": "code",
        "colab": {}
      },
      "source": [
        "trainer.show_predictions()"
      ],
      "execution_count": 0,
      "outputs": []
    },
    {
      "cell_type": "code",
      "metadata": {
        "id": "7Q6m6PiWJm1E",
        "colab_type": "code",
        "colab": {}
      },
      "source": [
        "trainer.show_predictions(correct=True)"
      ],
      "execution_count": 0,
      "outputs": []
    },
    {
      "cell_type": "code",
      "metadata": {
        "id": "2ysdLCkP_mrP",
        "colab_type": "code",
        "colab": {}
      },
      "source": [
        "steps_resnet50 = [\n",
        "    ImageTrainingStep(\n",
        "        n_epochs=3,\n",
        "        lr=3e-4,\n",
        "        optimizer=keras.optimizers.Adam,\n",
        "        freeze=True,\n",
        "        feature_pipeline=[\n",
        "            ImageParser(),\n",
        "            ImageResizer(img_dims=IMG_DIMS, resize=\"stretch\"),\n",
        "            ImageAugmentor(level=1),\n",
        "        ],\n",
        "    ),\n",
        "    ImageTrainingStep(\n",
        "        n_epochs=5,\n",
        "        lr=3e-4,\n",
        "        optimizer=keras.optimizers.Adam,\n",
        "        feature_pipeline=[\n",
        "            ImageParser(),\n",
        "            ImageResizer(img_dims=IMG_DIMS, resize=\"stretch\"),\n",
        "            ImageAugmentor(level=3, flips=\"both\"),\n",
        "        ],\n",
        "    ),\n",
        "    ImageTrainingStep(\n",
        "        n_epochs=5,\n",
        "        lr=3e-5,\n",
        "        optimizer=keras.optimizers.Adam,\n",
        "        feature_pipeline=[\n",
        "            ImageParser(),\n",
        "            ImageResizer(img_dims=IMG_DIMS, resize=\"stretch\"),\n",
        "            ImageAugmentor(level=3, flips=\"both\"),\n",
        "        ],\n",
        "    ),\n",
        "    ImageTrainingStep(\n",
        "        n_epochs=3,\n",
        "        lr=1e-5,\n",
        "        optimizer=keras.optimizers.SGD,\n",
        "        feature_pipeline=[\n",
        "            ImageParser(),\n",
        "            ImageResizer(img_dims=IMG_DIMS, resize=\"stretch\"),\n",
        "            ImageAugmentor(level=1),\n",
        "        ],\n",
        "    ),\n",
        "]"
      ],
      "execution_count": 0,
      "outputs": []
    },
    {
      "cell_type": "code",
      "metadata": {
        "id": "Ie07FLa181uR",
        "colab_type": "code",
        "colab": {}
      },
      "source": [
        "learner_resnet50 = ImageLearner(\n",
        "    path=TEMP_DIR/\"resnet50_v1\",\n",
        "    base_model=keras.applications.ResNet50,\n",
        "    input_shape=IMG_DIMS,\n",
        "    output_shape=[data_container.train.n_classes],\n",
        "    activation=keras.activations.softmax,\n",
        "    loss=keras.losses.sparse_categorical_crossentropy,\n",
        "    metrics=[keras.metrics.sparse_categorical_accuracy, sparse_top_2_categorical_accuracy],\n",
        "    dropout=0.5,\n",
        "    l1=3e-6,\n",
        "    l2=3e-5,\n",
        "    override=True,\n",
        ")"
      ],
      "execution_count": 0,
      "outputs": []
    },
    {
      "cell_type": "code",
      "metadata": {
        "id": "oePYpyFt6Oct",
        "colab_type": "code",
        "colab": {}
      },
      "source": [
        "trainer_resnet50 = ImageTrainer(\n",
        "    learner=learner_resnet50,\n",
        "    data_container=data_container,\n",
        "    steps=steps_resnet50,\n",
        ")"
      ],
      "execution_count": 0,
      "outputs": []
    },
    {
      "cell_type": "code",
      "metadata": {
        "id": "ctyUQFts6PQo",
        "colab_type": "code",
        "outputId": "54f301b9-7a67-4f0b-c4fd-74263fb483ae",
        "colab": {
          "base_uri": "https://localhost:8080/",
          "height": 700
        }
      },
      "source": [
        "trainer_resnet50.train()"
      ],
      "execution_count": 0,
      "outputs": [
        {
          "output_type": "stream",
          "text": [
            "Train for 109 steps, validate for 14 steps\n",
            "Epoch 1/3\n",
            "109/109 [==============================] - 109s 997ms/step - loss: 6.4719 - sparse_categorical_accuracy: 0.4183 - sparse_top_2_categorical_accuracy: 0.6456 - val_loss: 4.0920 - val_sparse_categorical_accuracy: 0.2634 - val_sparse_top_2_categorical_accuracy: 0.4397\n",
            "Epoch 2/3\n",
            "109/109 [==============================] - 81s 740ms/step - loss: 3.5956 - sparse_categorical_accuracy: 0.6198 - sparse_top_2_categorical_accuracy: 0.8139 - val_loss: 3.7718 - val_sparse_categorical_accuracy: 0.2634 - val_sparse_top_2_categorical_accuracy: 0.4509\n",
            "Epoch 3/3\n",
            "109/109 [==============================] - 81s 740ms/step - loss: 2.7729 - sparse_categorical_accuracy: 0.6938 - sparse_top_2_categorical_accuracy: 0.8627 - val_loss: 3.7274 - val_sparse_categorical_accuracy: 0.2634 - val_sparse_top_2_categorical_accuracy: 0.4710\n",
            "Train for 109 steps, validate for 14 steps\n",
            "Epoch 1/5\n",
            "109/109 [==============================] - 208s 2s/step - loss: 0.7351 - sparse_categorical_accuracy: 0.7833 - sparse_top_2_categorical_accuracy: 0.9180 - val_loss: 2.9840 - val_sparse_categorical_accuracy: 0.2634 - val_sparse_top_2_categorical_accuracy: 0.4531\n",
            "Epoch 2/5\n",
            "109/109 [==============================] - 171s 2s/step - loss: 0.3958 - sparse_categorical_accuracy: 0.8736 - sparse_top_2_categorical_accuracy: 0.9596 - val_loss: 2.6800 - val_sparse_categorical_accuracy: 0.2656 - val_sparse_top_2_categorical_accuracy: 0.4933\n",
            "Epoch 3/5\n",
            "109/109 [==============================] - 172s 2s/step - loss: 0.3630 - sparse_categorical_accuracy: 0.8802 - sparse_top_2_categorical_accuracy: 0.9656 - val_loss: 2.5871 - val_sparse_categorical_accuracy: 0.2679 - val_sparse_top_2_categorical_accuracy: 0.4531\n",
            "Epoch 4/5\n",
            "109/109 [==============================] - 170s 2s/step - loss: 0.3105 - sparse_categorical_accuracy: 0.8974 - sparse_top_2_categorical_accuracy: 0.9751 - val_loss: 2.5913 - val_sparse_categorical_accuracy: 0.2567 - val_sparse_top_2_categorical_accuracy: 0.4554\n",
            "Epoch 5/5\n",
            "109/109 [==============================] - 171s 2s/step - loss: 0.2652 - sparse_categorical_accuracy: 0.9123 - sparse_top_2_categorical_accuracy: 0.9736 - val_loss: 1.7062 - val_sparse_categorical_accuracy: 0.5067 - val_sparse_top_2_categorical_accuracy: 0.6942\n",
            "Train for 109 steps, validate for 14 steps\n",
            "Epoch 1/5\n",
            "109/109 [==============================] - 206s 2s/step - loss: 0.1733 - sparse_categorical_accuracy: 0.9412 - sparse_top_2_categorical_accuracy: 0.9868 - val_loss: 0.7891 - val_sparse_categorical_accuracy: 0.6897 - val_sparse_top_2_categorical_accuracy: 0.8571\n",
            "Epoch 2/5\n",
            "109/109 [==============================] - 170s 2s/step - loss: 0.1145 - sparse_categorical_accuracy: 0.9619 - sparse_top_2_categorical_accuracy: 0.9923 - val_loss: 0.3817 - val_sparse_categorical_accuracy: 0.8571 - val_sparse_top_2_categorical_accuracy: 0.9487\n",
            "Epoch 3/5\n",
            "109/109 [==============================] - 171s 2s/step - loss: 0.0965 - sparse_categorical_accuracy: 0.9685 - sparse_top_2_categorical_accuracy: 0.9920 - val_loss: 0.2518 - val_sparse_categorical_accuracy: 0.9196 - val_sparse_top_2_categorical_accuracy: 0.9710\n",
            "Epoch 4/5\n",
            "109/109 [==============================] - 172s 2s/step - loss: 0.0727 - sparse_categorical_accuracy: 0.9751 - sparse_top_2_categorical_accuracy: 0.9968 - val_loss: 0.1888 - val_sparse_categorical_accuracy: 0.9353 - val_sparse_top_2_categorical_accuracy: 0.9844\n",
            "Epoch 5/5\n",
            "109/109 [==============================] - 172s 2s/step - loss: 0.0618 - sparse_categorical_accuracy: 0.9805 - sparse_top_2_categorical_accuracy: 0.9966 - val_loss: 0.1551 - val_sparse_categorical_accuracy: 0.9442 - val_sparse_top_2_categorical_accuracy: 0.9844\n",
            "Train for 109 steps, validate for 14 steps\n",
            "Epoch 1/3\n",
            "109/109 [==============================] - 202s 2s/step - loss: 0.0371 - sparse_categorical_accuracy: 0.9900 - sparse_top_2_categorical_accuracy: 0.9980 - val_loss: 0.1474 - val_sparse_categorical_accuracy: 0.9487 - val_sparse_top_2_categorical_accuracy: 0.9844\n",
            "Epoch 2/3\n",
            "109/109 [==============================] - 169s 2s/step - loss: 0.0415 - sparse_categorical_accuracy: 0.9880 - sparse_top_2_categorical_accuracy: 0.9983 - val_loss: 0.1463 - val_sparse_categorical_accuracy: 0.9509 - val_sparse_top_2_categorical_accuracy: 0.9844\n",
            "Epoch 3/3\n",
            "109/109 [==============================] - 167s 2s/step - loss: 0.0423 - sparse_categorical_accuracy: 0.9882 - sparse_top_2_categorical_accuracy: 0.9991 - val_loss: 0.1466 - val_sparse_categorical_accuracy: 0.9464 - val_sparse_top_2_categorical_accuracy: 0.9844\n",
            "--------------------------------------------------------------------------------\n",
            "Name: resnet50 Train Time: 43.5 min. Eval Time: 5.68s Loss: 0.1463 Accuracy: 95.09%\n",
            "--------------------------------------------------------------------------------\n"
          ],
          "name": "stdout"
        }
      ]
    },
    {
      "cell_type": "code",
      "metadata": {
        "id": "h4JvevFB-SJa",
        "colab_type": "code",
        "outputId": "a41b6fd9-5b24-4011-fed2-44501d30d446",
        "colab": {
          "base_uri": "https://localhost:8080/",
          "height": 71
        }
      },
      "source": [
        "trainer_resnet50.evaluate_dataset()"
      ],
      "execution_count": 0,
      "outputs": [
        {
          "output_type": "stream",
          "text": [
            "14/14 [==============================] - 6s 404ms/step - loss: 0.1463 - sparse_categorical_accuracy: 0.9509 - sparse_top_2_categorical_accuracy: 0.9844\n"
          ],
          "name": "stdout"
        },
        {
          "output_type": "execute_result",
          "data": {
            "text/plain": [
              "[0.1462951713640775, 0.95089287, 0.984375]"
            ]
          },
          "metadata": {
            "tags": []
          },
          "execution_count": 124
        }
      ]
    },
    {
      "cell_type": "code",
      "metadata": {
        "id": "ALUET8BL_Bd7",
        "colab_type": "code",
        "colab": {}
      },
      "source": [
        "ds_analysis_resnet50 = trainer_resnet50.analyse_dataset()"
      ],
      "execution_count": 0,
      "outputs": []
    },
    {
      "cell_type": "code",
      "metadata": {
        "id": "_W81Rj6L_BSD",
        "colab_type": "code",
        "outputId": "b81d4329-8d22-4c71-9802-a433a31ea48f",
        "colab": {
          "base_uri": "https://localhost:8080/",
          "height": 221
        }
      },
      "source": [
        "print(classification_report(ds_analysis[\"label\"].values, ds_analysis[\"pred\"].values))"
      ],
      "execution_count": 0,
      "outputs": [
        {
          "output_type": "stream",
          "text": [
            "              precision    recall  f1-score   support\n",
            "\n",
            "       daisy       0.97      0.91      0.94        81\n",
            "   dandelion       0.94      0.98      0.96       113\n",
            "        rose       0.91      0.95      0.93        63\n",
            "   sunflower       0.96      0.93      0.94        80\n",
            "       tulip       0.92      0.92      0.92        96\n",
            "\n",
            "    accuracy                           0.94       433\n",
            "   macro avg       0.94      0.94      0.94       433\n",
            "weighted avg       0.94      0.94      0.94       433\n",
            "\n"
          ],
          "name": "stdout"
        }
      ]
    },
    {
      "cell_type": "code",
      "metadata": {
        "id": "WYhs6JKU_BE9",
        "colab_type": "code",
        "outputId": "dc148f93-6167-4572-ae83-22626cb992b5",
        "colab": {
          "base_uri": "https://localhost:8080/",
          "height": 238
        }
      },
      "source": [
        "trainer_resnet50.predict_dataset()"
      ],
      "execution_count": 0,
      "outputs": [
        {
          "output_type": "execute_result",
          "data": {
            "text/plain": [
              "array([[2.2958279e-01, 5.0620534e-03, 1.5814045e-02, 9.0595946e-04,\n",
              "        7.4863511e-01],\n",
              "       [1.6908677e-01, 8.3082581e-01, 5.1946984e-07, 3.7806731e-05,\n",
              "        4.9108370e-05],\n",
              "       [6.0218208e-06, 9.9998546e-01, 8.0363407e-07, 7.2425983e-06,\n",
              "        5.3555988e-07],\n",
              "       ...,\n",
              "       [1.3781066e-07, 8.2751157e-09, 4.5815714e-06, 7.8002223e-08,\n",
              "        9.9999523e-01],\n",
              "       [7.1511913e-10, 3.7459645e-12, 1.1536716e-06, 4.8261519e-08,\n",
              "        9.9999881e-01],\n",
              "       [1.0000000e+00, 7.5191513e-13, 9.8632207e-11, 1.5934265e-12,\n",
              "        6.1544596e-11]], dtype=float32)"
            ]
          },
          "metadata": {
            "tags": []
          },
          "execution_count": 127
        }
      ]
    },
    {
      "cell_type": "code",
      "metadata": {
        "id": "2dO5C8ex_A5r",
        "colab_type": "code",
        "outputId": "6d7c2dcb-f5d9-4bf2-c76b-db424ca07761",
        "colab": {
          "base_uri": "https://localhost:8080/",
          "height": 1000
        }
      },
      "source": [
        "trainer_resnet50.analyse_dataset()"
      ],
      "execution_count": 0,
      "outputs": [
        {
          "output_type": "execute_result",
          "data": {
            "text/html": [
              "<div>\n",
              "<style scoped>\n",
              "    .dataframe tbody tr th:only-of-type {\n",
              "        vertical-align: middle;\n",
              "    }\n",
              "\n",
              "    .dataframe tbody tr th {\n",
              "        vertical-align: top;\n",
              "    }\n",
              "\n",
              "    .dataframe thead th {\n",
              "        text-align: right;\n",
              "    }\n",
              "</style>\n",
              "<table border=\"1\" class=\"dataframe\">\n",
              "  <thead>\n",
              "    <tr style=\"text-align: right;\">\n",
              "      <th></th>\n",
              "      <th>path</th>\n",
              "      <th>image</th>\n",
              "      <th>label</th>\n",
              "      <th>label_code</th>\n",
              "      <th>pred</th>\n",
              "      <th>pred_code</th>\n",
              "      <th>label_probs</th>\n",
              "      <th>pred_probs</th>\n",
              "    </tr>\n",
              "  </thead>\n",
              "  <tbody>\n",
              "    <tr>\n",
              "      <th>0</th>\n",
              "      <td>data/flowers2/flowers/daisy/4581199679_867652c...</td>\n",
              "      <td>[[[0.92549026, 0.8862746, 0.5019608], [0.92549...</td>\n",
              "      <td>daisy</td>\n",
              "      <td>0</td>\n",
              "      <td>tulip</td>\n",
              "      <td>4</td>\n",
              "      <td>0.229583</td>\n",
              "      <td>0.748635</td>\n",
              "    </tr>\n",
              "    <tr>\n",
              "      <th>1</th>\n",
              "      <td>data/flowers2/flowers/daisy/33830843653_ee6d79...</td>\n",
              "      <td>[[[0.121568635, 0.13333334, 0.027450982], [0.1...</td>\n",
              "      <td>daisy</td>\n",
              "      <td>0</td>\n",
              "      <td>dandelion</td>\n",
              "      <td>1</td>\n",
              "      <td>0.169086</td>\n",
              "      <td>0.830826</td>\n",
              "    </tr>\n",
              "    <tr>\n",
              "      <th>2</th>\n",
              "      <td>data/flowers2/flowers/dandelion/6412422565_ce6...</td>\n",
              "      <td>[[[0.5254902, 0.6, 0.24705884], [0.5724245, 0....</td>\n",
              "      <td>dandelion</td>\n",
              "      <td>1</td>\n",
              "      <td>dandelion</td>\n",
              "      <td>1</td>\n",
              "      <td>0.999985</td>\n",
              "      <td>0.999985</td>\n",
              "    </tr>\n",
              "    <tr>\n",
              "      <th>3</th>\n",
              "      <td>data/flowers2/flowers/tulip/20910465721_fd8dcc...</td>\n",
              "      <td>[[[0.38823533, 0.454902, 0.32156864], [0.38080...</td>\n",
              "      <td>tulip</td>\n",
              "      <td>4</td>\n",
              "      <td>tulip</td>\n",
              "      <td>4</td>\n",
              "      <td>0.999997</td>\n",
              "      <td>0.999997</td>\n",
              "    </tr>\n",
              "    <tr>\n",
              "      <th>4</th>\n",
              "      <td>data/flowers2/flowers/tulip/2436998042_4906ea0...</td>\n",
              "      <td>[[[0.0014748488, 0.0014748488, 0.0013181193], ...</td>\n",
              "      <td>tulip</td>\n",
              "      <td>4</td>\n",
              "      <td>tulip</td>\n",
              "      <td>4</td>\n",
              "      <td>0.999994</td>\n",
              "      <td>0.999994</td>\n",
              "    </tr>\n",
              "    <tr>\n",
              "      <th>5</th>\n",
              "      <td>data/flowers2/flowers/tulip/3498663243_42b39b4...</td>\n",
              "      <td>[[[0.6784314, 0.8470589, 0.9843138], [0.680011...</td>\n",
              "      <td>tulip</td>\n",
              "      <td>4</td>\n",
              "      <td>tulip</td>\n",
              "      <td>4</td>\n",
              "      <td>0.993852</td>\n",
              "      <td>0.993852</td>\n",
              "    </tr>\n",
              "    <tr>\n",
              "      <th>6</th>\n",
              "      <td>data/flowers2/flowers/dandelion/18010259565_d6...</td>\n",
              "      <td>[[[0.32507706, 0.41919473, 0.2937045], [0.3128...</td>\n",
              "      <td>dandelion</td>\n",
              "      <td>1</td>\n",
              "      <td>dandelion</td>\n",
              "      <td>1</td>\n",
              "      <td>1.000000</td>\n",
              "      <td>1.000000</td>\n",
              "    </tr>\n",
              "    <tr>\n",
              "      <th>7</th>\n",
              "      <td>data/flowers2/flowers/dandelion/22190242684_8c...</td>\n",
              "      <td>[[[0.0, 0.33680898, 0.34073055], [0.0, 0.33699...</td>\n",
              "      <td>dandelion</td>\n",
              "      <td>1</td>\n",
              "      <td>dandelion</td>\n",
              "      <td>1</td>\n",
              "      <td>1.000000</td>\n",
              "      <td>1.000000</td>\n",
              "    </tr>\n",
              "    <tr>\n",
              "      <th>8</th>\n",
              "      <td>data/flowers2/flowers/sunflower/20753711039_0b...</td>\n",
              "      <td>[[[0.5786019, 0.38740906, 0.0842088], [0.53643...</td>\n",
              "      <td>sunflower</td>\n",
              "      <td>3</td>\n",
              "      <td>sunflower</td>\n",
              "      <td>3</td>\n",
              "      <td>1.000000</td>\n",
              "      <td>1.000000</td>\n",
              "    </tr>\n",
              "    <tr>\n",
              "      <th>9</th>\n",
              "      <td>data/flowers2/flowers/dandelion/5598591979_ed9...</td>\n",
              "      <td>[[[0.3276215, 0.3253525, 0.48083812], [0.27595...</td>\n",
              "      <td>dandelion</td>\n",
              "      <td>1</td>\n",
              "      <td>dandelion</td>\n",
              "      <td>1</td>\n",
              "      <td>1.000000</td>\n",
              "      <td>1.000000</td>\n",
              "    </tr>\n",
              "    <tr>\n",
              "      <th>10</th>\n",
              "      <td>data/flowers2/flowers/daisy/7335886184_d06a83f...</td>\n",
              "      <td>[[[0.32803935, 0.39599138, 0.29403058], [0.337...</td>\n",
              "      <td>daisy</td>\n",
              "      <td>0</td>\n",
              "      <td>daisy</td>\n",
              "      <td>0</td>\n",
              "      <td>0.998037</td>\n",
              "      <td>0.998037</td>\n",
              "    </tr>\n",
              "    <tr>\n",
              "      <th>11</th>\n",
              "      <td>data/flowers2/flowers/dandelion/3589816063_50f...</td>\n",
              "      <td>[[[0.27058825, 0.26666668, 0.18823531], [0.268...</td>\n",
              "      <td>dandelion</td>\n",
              "      <td>1</td>\n",
              "      <td>dandelion</td>\n",
              "      <td>1</td>\n",
              "      <td>0.998585</td>\n",
              "      <td>0.998585</td>\n",
              "    </tr>\n",
              "    <tr>\n",
              "      <th>12</th>\n",
              "      <td>data/flowers2/flowers/tulip/2280950463_86510c2...</td>\n",
              "      <td>[[[0.22249985, 0.29350123, 0.38803205], [0.309...</td>\n",
              "      <td>tulip</td>\n",
              "      <td>4</td>\n",
              "      <td>tulip</td>\n",
              "      <td>4</td>\n",
              "      <td>0.999995</td>\n",
              "      <td>0.999995</td>\n",
              "    </tr>\n",
              "    <tr>\n",
              "      <th>13</th>\n",
              "      <td>data/flowers2/flowers/tulip/12916441224_2ed635...</td>\n",
              "      <td>[[[0.57241136, 0.3488819, 0.040455114], [0.568...</td>\n",
              "      <td>tulip</td>\n",
              "      <td>4</td>\n",
              "      <td>tulip</td>\n",
              "      <td>4</td>\n",
              "      <td>0.999999</td>\n",
              "      <td>0.999999</td>\n",
              "    </tr>\n",
              "    <tr>\n",
              "      <th>14</th>\n",
              "      <td>data/flowers2/flowers/daisy/14087947408_977925...</td>\n",
              "      <td>[[[0.2785691, 0.43543187, 0.22758871], [0.2798...</td>\n",
              "      <td>daisy</td>\n",
              "      <td>0</td>\n",
              "      <td>daisy</td>\n",
              "      <td>0</td>\n",
              "      <td>1.000000</td>\n",
              "      <td>1.000000</td>\n",
              "    </tr>\n",
              "    <tr>\n",
              "      <th>15</th>\n",
              "      <td>data/flowers2/flowers/tulip/444963906_e41492b6...</td>\n",
              "      <td>[[[0.22356853, 0.0828634, 0.103313856], [0.412...</td>\n",
              "      <td>tulip</td>\n",
              "      <td>4</td>\n",
              "      <td>tulip</td>\n",
              "      <td>4</td>\n",
              "      <td>0.999117</td>\n",
              "      <td>0.999117</td>\n",
              "    </tr>\n",
              "    <tr>\n",
              "      <th>16</th>\n",
              "      <td>data/flowers2/flowers/sunflower/23247483352_0d...</td>\n",
              "      <td>[[[0.8747853, 0.81272876, 0.82490665], [0.8827...</td>\n",
              "      <td>sunflower</td>\n",
              "      <td>3</td>\n",
              "      <td>sunflower</td>\n",
              "      <td>3</td>\n",
              "      <td>0.999951</td>\n",
              "      <td>0.999951</td>\n",
              "    </tr>\n",
              "    <tr>\n",
              "      <th>17</th>\n",
              "      <td>data/flowers2/flowers/rose/12202373204_34fb072...</td>\n",
              "      <td>[[[0.31443083, 0.22815634, 0.1820868], [0.2666...</td>\n",
              "      <td>rose</td>\n",
              "      <td>2</td>\n",
              "      <td>rose</td>\n",
              "      <td>2</td>\n",
              "      <td>0.999997</td>\n",
              "      <td>0.999997</td>\n",
              "    </tr>\n",
              "    <tr>\n",
              "      <th>18</th>\n",
              "      <td>data/flowers2/flowers/tulip/16702117379_c25bff...</td>\n",
              "      <td>[[[0.08235294, 0.054901965, 0.03137255], [0.07...</td>\n",
              "      <td>tulip</td>\n",
              "      <td>4</td>\n",
              "      <td>tulip</td>\n",
              "      <td>4</td>\n",
              "      <td>0.999996</td>\n",
              "      <td>0.999996</td>\n",
              "    </tr>\n",
              "    <tr>\n",
              "      <th>19</th>\n",
              "      <td>data/flowers2/flowers/daisy/8021540573_c56cf90...</td>\n",
              "      <td>[[[0.5686275, 0.5061578, 0.27045053], [0.56945...</td>\n",
              "      <td>daisy</td>\n",
              "      <td>0</td>\n",
              "      <td>daisy</td>\n",
              "      <td>0</td>\n",
              "      <td>0.825765</td>\n",
              "      <td>0.825765</td>\n",
              "    </tr>\n",
              "    <tr>\n",
              "      <th>20</th>\n",
              "      <td>data/flowers2/flowers/rose/15811411368_f4f2cd8...</td>\n",
              "      <td>[[[0.07058824, 0.054901965, 0.011764707], [0.0...</td>\n",
              "      <td>rose</td>\n",
              "      <td>2</td>\n",
              "      <td>rose</td>\n",
              "      <td>2</td>\n",
              "      <td>0.999529</td>\n",
              "      <td>0.999529</td>\n",
              "    </tr>\n",
              "    <tr>\n",
              "      <th>21</th>\n",
              "      <td>data/flowers2/flowers/sunflower/8266310743_020...</td>\n",
              "      <td>[[[0.5803922, 0.48235297, 0.16862746], [0.4971...</td>\n",
              "      <td>sunflower</td>\n",
              "      <td>3</td>\n",
              "      <td>sunflower</td>\n",
              "      <td>3</td>\n",
              "      <td>0.999978</td>\n",
              "      <td>0.999978</td>\n",
              "    </tr>\n",
              "    <tr>\n",
              "      <th>22</th>\n",
              "      <td>data/flowers2/flowers/daisy/754248840_95092de2...</td>\n",
              "      <td>[[[0.1439926, 0.23483507, 0.0076220366], [0.07...</td>\n",
              "      <td>daisy</td>\n",
              "      <td>0</td>\n",
              "      <td>daisy</td>\n",
              "      <td>0</td>\n",
              "      <td>0.967102</td>\n",
              "      <td>0.967102</td>\n",
              "    </tr>\n",
              "    <tr>\n",
              "      <th>23</th>\n",
              "      <td>data/flowers2/flowers/rose/5073473370_bdbb5a99...</td>\n",
              "      <td>[[[0.51203644, 0.39831093, 0.28066385], [0.509...</td>\n",
              "      <td>rose</td>\n",
              "      <td>2</td>\n",
              "      <td>rose</td>\n",
              "      <td>2</td>\n",
              "      <td>0.991755</td>\n",
              "      <td>0.991755</td>\n",
              "    </tr>\n",
              "    <tr>\n",
              "      <th>24</th>\n",
              "      <td>data/flowers2/flowers/sunflower/4745980581_a0b...</td>\n",
              "      <td>[[[0.6718277, 0.51496494, 0.0], [0.6934881, 0....</td>\n",
              "      <td>sunflower</td>\n",
              "      <td>3</td>\n",
              "      <td>sunflower</td>\n",
              "      <td>3</td>\n",
              "      <td>0.992529</td>\n",
              "      <td>0.992529</td>\n",
              "    </tr>\n",
              "    <tr>\n",
              "      <th>25</th>\n",
              "      <td>data/flowers2/flowers/tulip/5674132053_b40a7d3...</td>\n",
              "      <td>[[[0.42947444, 0.45219198, 0.10564093], [0.418...</td>\n",
              "      <td>tulip</td>\n",
              "      <td>4</td>\n",
              "      <td>tulip</td>\n",
              "      <td>4</td>\n",
              "      <td>0.975637</td>\n",
              "      <td>0.975637</td>\n",
              "    </tr>\n",
              "    <tr>\n",
              "      <th>26</th>\n",
              "      <td>data/flowers2/flowers/sunflower/4895721788_f10...</td>\n",
              "      <td>[[[0.058961246, 0.12913634, 0.035431832], [0.0...</td>\n",
              "      <td>sunflower</td>\n",
              "      <td>3</td>\n",
              "      <td>sunflower</td>\n",
              "      <td>3</td>\n",
              "      <td>1.000000</td>\n",
              "      <td>1.000000</td>\n",
              "    </tr>\n",
              "    <tr>\n",
              "      <th>27</th>\n",
              "      <td>data/flowers2/flowers/rose/466486216_ab13b5576...</td>\n",
              "      <td>[[[0.43304014, 0.5479048, 0.5908172], [0.40577...</td>\n",
              "      <td>rose</td>\n",
              "      <td>2</td>\n",
              "      <td>rose</td>\n",
              "      <td>2</td>\n",
              "      <td>0.999588</td>\n",
              "      <td>0.999588</td>\n",
              "    </tr>\n",
              "    <tr>\n",
              "      <th>28</th>\n",
              "      <td>data/flowers2/flowers/tulip/8713390684_041148d...</td>\n",
              "      <td>[[[0.3488819, 0.0037838551, 0.0], [0.34427178,...</td>\n",
              "      <td>tulip</td>\n",
              "      <td>4</td>\n",
              "      <td>tulip</td>\n",
              "      <td>4</td>\n",
              "      <td>0.999999</td>\n",
              "      <td>0.999999</td>\n",
              "    </tr>\n",
              "    <tr>\n",
              "      <th>29</th>\n",
              "      <td>data/flowers2/flowers/tulip/3540595981_73f14d1...</td>\n",
              "      <td>[[[0.8473343, 0.40316746, 0.59284544], [0.8553...</td>\n",
              "      <td>tulip</td>\n",
              "      <td>4</td>\n",
              "      <td>tulip</td>\n",
              "      <td>4</td>\n",
              "      <td>0.992483</td>\n",
              "      <td>0.992483</td>\n",
              "    </tr>\n",
              "    <tr>\n",
              "      <th>...</th>\n",
              "      <td>...</td>\n",
              "      <td>...</td>\n",
              "      <td>...</td>\n",
              "      <td>...</td>\n",
              "      <td>...</td>\n",
              "      <td>...</td>\n",
              "      <td>...</td>\n",
              "      <td>...</td>\n",
              "    </tr>\n",
              "    <tr>\n",
              "      <th>403</th>\n",
              "      <td>data/flowers2/flowers/tulip/497305666_b5d43488...</td>\n",
              "      <td>[[[0.26625353, 0.34681618, 0.5261722], [0.2648...</td>\n",
              "      <td>tulip</td>\n",
              "      <td>4</td>\n",
              "      <td>tulip</td>\n",
              "      <td>4</td>\n",
              "      <td>0.999928</td>\n",
              "      <td>0.999928</td>\n",
              "    </tr>\n",
              "    <tr>\n",
              "      <th>404</th>\n",
              "      <td>data/flowers2/flowers/tulip/5811004432_266f0f0...</td>\n",
              "      <td>[[[0.0016066629, 0.01337137, 0.0], [0.00014427...</td>\n",
              "      <td>tulip</td>\n",
              "      <td>4</td>\n",
              "      <td>tulip</td>\n",
              "      <td>4</td>\n",
              "      <td>0.999280</td>\n",
              "      <td>0.999280</td>\n",
              "    </tr>\n",
              "    <tr>\n",
              "      <th>405</th>\n",
              "      <td>data/flowers2/flowers/sunflower/265450085_6e9f...</td>\n",
              "      <td>[[[0.6023992, 0.4816709, 0.010861593], [0.5367...</td>\n",
              "      <td>sunflower</td>\n",
              "      <td>3</td>\n",
              "      <td>sunflower</td>\n",
              "      <td>3</td>\n",
              "      <td>0.999999</td>\n",
              "      <td>0.999999</td>\n",
              "    </tr>\n",
              "    <tr>\n",
              "      <th>406</th>\n",
              "      <td>data/flowers2/flowers/tulip/11614202956_1dcf1c...</td>\n",
              "      <td>[[[0.0995101, 0.17383628, 0.0994183], [0.10199...</td>\n",
              "      <td>tulip</td>\n",
              "      <td>4</td>\n",
              "      <td>tulip</td>\n",
              "      <td>4</td>\n",
              "      <td>0.998329</td>\n",
              "      <td>0.998329</td>\n",
              "    </tr>\n",
              "    <tr>\n",
              "      <th>407</th>\n",
              "      <td>data/flowers2/flowers/dandelion/33882910234_dd...</td>\n",
              "      <td>[[[0.19215688, 0.3803922, 0.0], [0.19215688, 0...</td>\n",
              "      <td>dandelion</td>\n",
              "      <td>1</td>\n",
              "      <td>dandelion</td>\n",
              "      <td>1</td>\n",
              "      <td>0.997186</td>\n",
              "      <td>0.997186</td>\n",
              "    </tr>\n",
              "    <tr>\n",
              "      <th>408</th>\n",
              "      <td>data/flowers2/flowers/rose/5336559428_71e8b58a...</td>\n",
              "      <td>[[[0.34509805, 0.41176474, 0.5921569], [0.3474...</td>\n",
              "      <td>rose</td>\n",
              "      <td>2</td>\n",
              "      <td>rose</td>\n",
              "      <td>2</td>\n",
              "      <td>0.997970</td>\n",
              "      <td>0.997970</td>\n",
              "    </tr>\n",
              "    <tr>\n",
              "      <th>409</th>\n",
              "      <td>data/flowers2/flowers/sunflower/5180859236_60a...</td>\n",
              "      <td>[[[1.0, 0.9176471, 0.9921569], [0.95582664, 0....</td>\n",
              "      <td>sunflower</td>\n",
              "      <td>3</td>\n",
              "      <td>sunflower</td>\n",
              "      <td>3</td>\n",
              "      <td>0.989613</td>\n",
              "      <td>0.989613</td>\n",
              "    </tr>\n",
              "    <tr>\n",
              "      <th>410</th>\n",
              "      <td>data/flowers2/flowers/tulip/20116517681_2f10db...</td>\n",
              "      <td>[[[0.5764706, 0.06666667, 0.20000002], [0.5818...</td>\n",
              "      <td>tulip</td>\n",
              "      <td>4</td>\n",
              "      <td>tulip</td>\n",
              "      <td>4</td>\n",
              "      <td>0.999700</td>\n",
              "      <td>0.999700</td>\n",
              "    </tr>\n",
              "    <tr>\n",
              "      <th>411</th>\n",
              "      <td>data/flowers2/flowers/daisy/5586977262_6b24412...</td>\n",
              "      <td>[[[0.013692701, 0.038048398, 0.26412225], [0.0...</td>\n",
              "      <td>daisy</td>\n",
              "      <td>0</td>\n",
              "      <td>daisy</td>\n",
              "      <td>0</td>\n",
              "      <td>0.937499</td>\n",
              "      <td>0.937499</td>\n",
              "    </tr>\n",
              "    <tr>\n",
              "      <th>412</th>\n",
              "      <td>data/flowers2/flowers/daisy/3552074420_2a0a716...</td>\n",
              "      <td>[[[0.3137255, 0.3803922, 0.1764706], [0.313725...</td>\n",
              "      <td>daisy</td>\n",
              "      <td>0</td>\n",
              "      <td>daisy</td>\n",
              "      <td>0</td>\n",
              "      <td>0.972325</td>\n",
              "      <td>0.972325</td>\n",
              "    </tr>\n",
              "    <tr>\n",
              "      <th>413</th>\n",
              "      <td>data/flowers2/flowers/daisy/1396526833_fb86716...</td>\n",
              "      <td>[[[0.0, 0.0, 0.0], [0.0, 0.0, 0.0], [0.0, 0.0,...</td>\n",
              "      <td>daisy</td>\n",
              "      <td>0</td>\n",
              "      <td>daisy</td>\n",
              "      <td>0</td>\n",
              "      <td>0.999764</td>\n",
              "      <td>0.999764</td>\n",
              "    </tr>\n",
              "    <tr>\n",
              "      <th>414</th>\n",
              "      <td>data/flowers2/flowers/sunflower/4877195645_791...</td>\n",
              "      <td>[[[1.0, 1.0, 1.0], [1.0, 1.0, 1.0], [1.0, 1.0,...</td>\n",
              "      <td>sunflower</td>\n",
              "      <td>3</td>\n",
              "      <td>sunflower</td>\n",
              "      <td>3</td>\n",
              "      <td>1.000000</td>\n",
              "      <td>1.000000</td>\n",
              "    </tr>\n",
              "    <tr>\n",
              "      <th>415</th>\n",
              "      <td>data/flowers2/flowers/tulip/7166606598_5d2cd30...</td>\n",
              "      <td>[[[0.15686275, 0.2627451, 0.0], [0.2120795, 0....</td>\n",
              "      <td>tulip</td>\n",
              "      <td>4</td>\n",
              "      <td>tulip</td>\n",
              "      <td>4</td>\n",
              "      <td>0.999991</td>\n",
              "      <td>0.999991</td>\n",
              "    </tr>\n",
              "    <tr>\n",
              "      <th>416</th>\n",
              "      <td>data/flowers2/flowers/dandelion/5670543216_8c4...</td>\n",
              "      <td>[[[0.027450982, 0.0, 0.0], [0.015961703, 0.009...</td>\n",
              "      <td>dandelion</td>\n",
              "      <td>1</td>\n",
              "      <td>dandelion</td>\n",
              "      <td>1</td>\n",
              "      <td>0.999751</td>\n",
              "      <td>0.999751</td>\n",
              "    </tr>\n",
              "    <tr>\n",
              "      <th>417</th>\n",
              "      <td>data/flowers2/flowers/daisy/10391248763_1d1668...</td>\n",
              "      <td>[[[0.9328481, 0.9972457, 0.9335367], [0.774168...</td>\n",
              "      <td>daisy</td>\n",
              "      <td>0</td>\n",
              "      <td>daisy</td>\n",
              "      <td>0</td>\n",
              "      <td>0.997155</td>\n",
              "      <td>0.997155</td>\n",
              "    </tr>\n",
              "    <tr>\n",
              "      <th>418</th>\n",
              "      <td>data/flowers2/flowers/tulip/16055807744_000bc0...</td>\n",
              "      <td>[[[0.7176471, 0.72156864, 0.6901961], [0.72316...</td>\n",
              "      <td>tulip</td>\n",
              "      <td>4</td>\n",
              "      <td>tulip</td>\n",
              "      <td>4</td>\n",
              "      <td>0.997476</td>\n",
              "      <td>0.997476</td>\n",
              "    </tr>\n",
              "    <tr>\n",
              "      <th>419</th>\n",
              "      <td>data/flowers2/flowers/dandelion/14648777167_1d...</td>\n",
              "      <td>[[[0.46191886, 0.5518395, 0.45111814], [0.4379...</td>\n",
              "      <td>dandelion</td>\n",
              "      <td>1</td>\n",
              "      <td>dandelion</td>\n",
              "      <td>1</td>\n",
              "      <td>0.924852</td>\n",
              "      <td>0.924852</td>\n",
              "    </tr>\n",
              "    <tr>\n",
              "      <th>420</th>\n",
              "      <td>data/flowers2/flowers/dandelion/14012247974_69...</td>\n",
              "      <td>[[[0.50186247, 0.5253591, 0.06386648], [0.5406...</td>\n",
              "      <td>dandelion</td>\n",
              "      <td>1</td>\n",
              "      <td>dandelion</td>\n",
              "      <td>1</td>\n",
              "      <td>1.000000</td>\n",
              "      <td>1.000000</td>\n",
              "    </tr>\n",
              "    <tr>\n",
              "      <th>421</th>\n",
              "      <td>data/flowers2/flowers/rose/9369421752_db1ab2a6...</td>\n",
              "      <td>[[[0.19607845, 0.3647059, 0.5803922], [0.19866...</td>\n",
              "      <td>rose</td>\n",
              "      <td>2</td>\n",
              "      <td>rose</td>\n",
              "      <td>2</td>\n",
              "      <td>0.991152</td>\n",
              "      <td>0.991152</td>\n",
              "    </tr>\n",
              "    <tr>\n",
              "      <th>422</th>\n",
              "      <td>data/flowers2/flowers/dandelion/5862288632_1df...</td>\n",
              "      <td>[[[0.1724738, 0.22729862, 0.09811829], [0.1687...</td>\n",
              "      <td>dandelion</td>\n",
              "      <td>1</td>\n",
              "      <td>dandelion</td>\n",
              "      <td>1</td>\n",
              "      <td>1.000000</td>\n",
              "      <td>1.000000</td>\n",
              "    </tr>\n",
              "    <tr>\n",
              "      <th>423</th>\n",
              "      <td>data/flowers2/flowers/daisy/16577886423_9b2362...</td>\n",
              "      <td>[[[0.078431375, 0.07450981, 0.0], [0.078431375...</td>\n",
              "      <td>daisy</td>\n",
              "      <td>0</td>\n",
              "      <td>daisy</td>\n",
              "      <td>0</td>\n",
              "      <td>0.999998</td>\n",
              "      <td>0.999998</td>\n",
              "    </tr>\n",
              "    <tr>\n",
              "      <th>424</th>\n",
              "      <td>data/flowers2/flowers/tulip/14270573963_f122c4...</td>\n",
              "      <td>[[[0.24837695, 0.13072988, 0.0], [0.25094762, ...</td>\n",
              "      <td>tulip</td>\n",
              "      <td>4</td>\n",
              "      <td>tulip</td>\n",
              "      <td>4</td>\n",
              "      <td>0.998436</td>\n",
              "      <td>0.998436</td>\n",
              "    </tr>\n",
              "    <tr>\n",
              "      <th>425</th>\n",
              "      <td>data/flowers2/flowers/tulip/15516715153_08abc9...</td>\n",
              "      <td>[[[0.03825169, 0.12184406, 0.13209392], [0.031...</td>\n",
              "      <td>tulip</td>\n",
              "      <td>4</td>\n",
              "      <td>tulip</td>\n",
              "      <td>4</td>\n",
              "      <td>1.000000</td>\n",
              "      <td>1.000000</td>\n",
              "    </tr>\n",
              "    <tr>\n",
              "      <th>426</th>\n",
              "      <td>data/flowers2/flowers/tulip/20708492111_35757c...</td>\n",
              "      <td>[[[0.43921572, 0.4156863, 0.42352945], [0.3729...</td>\n",
              "      <td>tulip</td>\n",
              "      <td>4</td>\n",
              "      <td>tulip</td>\n",
              "      <td>4</td>\n",
              "      <td>0.999807</td>\n",
              "      <td>0.999807</td>\n",
              "    </tr>\n",
              "    <tr>\n",
              "      <th>427</th>\n",
              "      <td>data/flowers2/flowers/tulip/4418204816_018375a...</td>\n",
              "      <td>[[[0.0, 0.0, 0.0], [0.0, 0.0, 0.0], [0.0, 0.0,...</td>\n",
              "      <td>tulip</td>\n",
              "      <td>4</td>\n",
              "      <td>tulip</td>\n",
              "      <td>4</td>\n",
              "      <td>0.965191</td>\n",
              "      <td>0.965191</td>\n",
              "    </tr>\n",
              "    <tr>\n",
              "      <th>428</th>\n",
              "      <td>data/flowers2/flowers/tulip/4522764992_e9d70b8...</td>\n",
              "      <td>[[[0.003921569, 0.050980397, 0.0], [0.00210505...</td>\n",
              "      <td>tulip</td>\n",
              "      <td>4</td>\n",
              "      <td>tulip</td>\n",
              "      <td>4</td>\n",
              "      <td>0.743915</td>\n",
              "      <td>0.743915</td>\n",
              "    </tr>\n",
              "    <tr>\n",
              "      <th>429</th>\n",
              "      <td>data/flowers2/flowers/sunflower/6606809995_ede...</td>\n",
              "      <td>[[[0.19607845, 0.20000002, 0.18039216], [0.177...</td>\n",
              "      <td>sunflower</td>\n",
              "      <td>3</td>\n",
              "      <td>sunflower</td>\n",
              "      <td>3</td>\n",
              "      <td>0.999169</td>\n",
              "      <td>0.999169</td>\n",
              "    </tr>\n",
              "    <tr>\n",
              "      <th>430</th>\n",
              "      <td>data/flowers2/flowers/sunflower/7820626738_3be...</td>\n",
              "      <td>[[[0.948882, 0.99580306, 0.9801168], [0.946337...</td>\n",
              "      <td>sunflower</td>\n",
              "      <td>3</td>\n",
              "      <td>sunflower</td>\n",
              "      <td>3</td>\n",
              "      <td>0.999995</td>\n",
              "      <td>0.999995</td>\n",
              "    </tr>\n",
              "    <tr>\n",
              "      <th>431</th>\n",
              "      <td>data/flowers2/flowers/dandelion/2477986396_19d...</td>\n",
              "      <td>[[[0.5921569, 0.654902, 0.5137255], [0.5975474...</td>\n",
              "      <td>dandelion</td>\n",
              "      <td>1</td>\n",
              "      <td>dandelion</td>\n",
              "      <td>1</td>\n",
              "      <td>0.999935</td>\n",
              "      <td>0.999935</td>\n",
              "    </tr>\n",
              "    <tr>\n",
              "      <th>432</th>\n",
              "      <td>data/flowers2/flowers/dandelion/5681951567_d3b...</td>\n",
              "      <td>[[[0.0, 0.46274513, 0.7490196], [0.0, 0.464778...</td>\n",
              "      <td>dandelion</td>\n",
              "      <td>1</td>\n",
              "      <td>dandelion</td>\n",
              "      <td>1</td>\n",
              "      <td>0.999998</td>\n",
              "      <td>0.999998</td>\n",
              "    </tr>\n",
              "  </tbody>\n",
              "</table>\n",
              "<p>433 rows × 8 columns</p>\n",
              "</div>"
            ],
            "text/plain": [
              "                                                  path  ... pred_probs\n",
              "0    data/flowers2/flowers/daisy/4581199679_867652c...  ...   0.748635\n",
              "1    data/flowers2/flowers/daisy/33830843653_ee6d79...  ...   0.830826\n",
              "2    data/flowers2/flowers/dandelion/6412422565_ce6...  ...   0.999985\n",
              "3    data/flowers2/flowers/tulip/20910465721_fd8dcc...  ...   0.999997\n",
              "4    data/flowers2/flowers/tulip/2436998042_4906ea0...  ...   0.999994\n",
              "5    data/flowers2/flowers/tulip/3498663243_42b39b4...  ...   0.993852\n",
              "6    data/flowers2/flowers/dandelion/18010259565_d6...  ...   1.000000\n",
              "7    data/flowers2/flowers/dandelion/22190242684_8c...  ...   1.000000\n",
              "8    data/flowers2/flowers/sunflower/20753711039_0b...  ...   1.000000\n",
              "9    data/flowers2/flowers/dandelion/5598591979_ed9...  ...   1.000000\n",
              "10   data/flowers2/flowers/daisy/7335886184_d06a83f...  ...   0.998037\n",
              "11   data/flowers2/flowers/dandelion/3589816063_50f...  ...   0.998585\n",
              "12   data/flowers2/flowers/tulip/2280950463_86510c2...  ...   0.999995\n",
              "13   data/flowers2/flowers/tulip/12916441224_2ed635...  ...   0.999999\n",
              "14   data/flowers2/flowers/daisy/14087947408_977925...  ...   1.000000\n",
              "15   data/flowers2/flowers/tulip/444963906_e41492b6...  ...   0.999117\n",
              "16   data/flowers2/flowers/sunflower/23247483352_0d...  ...   0.999951\n",
              "17   data/flowers2/flowers/rose/12202373204_34fb072...  ...   0.999997\n",
              "18   data/flowers2/flowers/tulip/16702117379_c25bff...  ...   0.999996\n",
              "19   data/flowers2/flowers/daisy/8021540573_c56cf90...  ...   0.825765\n",
              "20   data/flowers2/flowers/rose/15811411368_f4f2cd8...  ...   0.999529\n",
              "21   data/flowers2/flowers/sunflower/8266310743_020...  ...   0.999978\n",
              "22   data/flowers2/flowers/daisy/754248840_95092de2...  ...   0.967102\n",
              "23   data/flowers2/flowers/rose/5073473370_bdbb5a99...  ...   0.991755\n",
              "24   data/flowers2/flowers/sunflower/4745980581_a0b...  ...   0.992529\n",
              "25   data/flowers2/flowers/tulip/5674132053_b40a7d3...  ...   0.975637\n",
              "26   data/flowers2/flowers/sunflower/4895721788_f10...  ...   1.000000\n",
              "27   data/flowers2/flowers/rose/466486216_ab13b5576...  ...   0.999588\n",
              "28   data/flowers2/flowers/tulip/8713390684_041148d...  ...   0.999999\n",
              "29   data/flowers2/flowers/tulip/3540595981_73f14d1...  ...   0.992483\n",
              "..                                                 ...  ...        ...\n",
              "403  data/flowers2/flowers/tulip/497305666_b5d43488...  ...   0.999928\n",
              "404  data/flowers2/flowers/tulip/5811004432_266f0f0...  ...   0.999280\n",
              "405  data/flowers2/flowers/sunflower/265450085_6e9f...  ...   0.999999\n",
              "406  data/flowers2/flowers/tulip/11614202956_1dcf1c...  ...   0.998329\n",
              "407  data/flowers2/flowers/dandelion/33882910234_dd...  ...   0.997186\n",
              "408  data/flowers2/flowers/rose/5336559428_71e8b58a...  ...   0.997970\n",
              "409  data/flowers2/flowers/sunflower/5180859236_60a...  ...   0.989613\n",
              "410  data/flowers2/flowers/tulip/20116517681_2f10db...  ...   0.999700\n",
              "411  data/flowers2/flowers/daisy/5586977262_6b24412...  ...   0.937499\n",
              "412  data/flowers2/flowers/daisy/3552074420_2a0a716...  ...   0.972325\n",
              "413  data/flowers2/flowers/daisy/1396526833_fb86716...  ...   0.999764\n",
              "414  data/flowers2/flowers/sunflower/4877195645_791...  ...   1.000000\n",
              "415  data/flowers2/flowers/tulip/7166606598_5d2cd30...  ...   0.999991\n",
              "416  data/flowers2/flowers/dandelion/5670543216_8c4...  ...   0.999751\n",
              "417  data/flowers2/flowers/daisy/10391248763_1d1668...  ...   0.997155\n",
              "418  data/flowers2/flowers/tulip/16055807744_000bc0...  ...   0.997476\n",
              "419  data/flowers2/flowers/dandelion/14648777167_1d...  ...   0.924852\n",
              "420  data/flowers2/flowers/dandelion/14012247974_69...  ...   1.000000\n",
              "421  data/flowers2/flowers/rose/9369421752_db1ab2a6...  ...   0.991152\n",
              "422  data/flowers2/flowers/dandelion/5862288632_1df...  ...   1.000000\n",
              "423  data/flowers2/flowers/daisy/16577886423_9b2362...  ...   0.999998\n",
              "424  data/flowers2/flowers/tulip/14270573963_f122c4...  ...   0.998436\n",
              "425  data/flowers2/flowers/tulip/15516715153_08abc9...  ...   1.000000\n",
              "426  data/flowers2/flowers/tulip/20708492111_35757c...  ...   0.999807\n",
              "427  data/flowers2/flowers/tulip/4418204816_018375a...  ...   0.965191\n",
              "428  data/flowers2/flowers/tulip/4522764992_e9d70b8...  ...   0.743915\n",
              "429  data/flowers2/flowers/sunflower/6606809995_ede...  ...   0.999169\n",
              "430  data/flowers2/flowers/sunflower/7820626738_3be...  ...   0.999995\n",
              "431  data/flowers2/flowers/dandelion/2477986396_19d...  ...   0.999935\n",
              "432  data/flowers2/flowers/dandelion/5681951567_d3b...  ...   0.999998\n",
              "\n",
              "[433 rows x 8 columns]"
            ]
          },
          "metadata": {
            "tags": []
          },
          "execution_count": 128
        }
      ]
    },
    {
      "cell_type": "code",
      "metadata": {
        "id": "IY5qumBa_Ax-",
        "colab_type": "code",
        "colab": {}
      },
      "source": [
        "trainer_resnet50.show_predictions()"
      ],
      "execution_count": 0,
      "outputs": []
    },
    {
      "cell_type": "code",
      "metadata": {
        "id": "wAvVfqBV_Uxd",
        "colab_type": "code",
        "colab": {}
      },
      "source": [
        "trainer_resnet50.show_predictions(correct=True)"
      ],
      "execution_count": 0,
      "outputs": []
    },
    {
      "cell_type": "markdown",
      "metadata": {
        "id": "WQk-yvy9b7Z2",
        "colab_type": "text"
      },
      "source": [
        "## Summary:\n",
        "\n",
        "**Accuracy:**\n",
        "\n",
        "Xception -  93,97 %\n",
        "\n",
        "ResNet50 - 95,05 %\n",
        "\n",
        "The better result because off less augmentation level for second layer used."
      ]
    }
  ]
}